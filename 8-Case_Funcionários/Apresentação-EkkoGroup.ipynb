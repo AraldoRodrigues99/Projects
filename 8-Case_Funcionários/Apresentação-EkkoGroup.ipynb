{
 "cells": [
  {
   "cell_type": "markdown",
   "id": "dd81f70b",
   "metadata": {
    "slideshow": {
     "slide_type": "slide"
    }
   },
   "source": [
    "# Case - Processo Seletivo | Programa de Estágio 2023\n",
    "\n",
    "## Por Araldo Rodrigues"
   ]
  },
  {
   "cell_type": "markdown",
   "id": "1daf29f3",
   "metadata": {
    "slideshow": {
     "slide_type": "slide"
    }
   },
   "source": [
    "### Importar os dados no notebook:"
   ]
  },
  {
   "cell_type": "code",
   "execution_count": 20,
   "id": "adea861d",
   "metadata": {
    "slideshow": {
     "slide_type": "fragment"
    }
   },
   "outputs": [
    {
     "data": {
      "text/html": [
       "<div>\n",
       "<style scoped>\n",
       "    .dataframe tbody tr th:only-of-type {\n",
       "        vertical-align: middle;\n",
       "    }\n",
       "\n",
       "    .dataframe tbody tr th {\n",
       "        vertical-align: top;\n",
       "    }\n",
       "\n",
       "    .dataframe thead th {\n",
       "        text-align: right;\n",
       "    }\n",
       "</style>\n",
       "<table border=\"1\" class=\"dataframe\">\n",
       "  <thead>\n",
       "    <tr style=\"text-align: right;\">\n",
       "      <th></th>\n",
       "      <th>Cargo</th>\n",
       "      <th>Diretoria</th>\n",
       "      <th>Departamento</th>\n",
       "    </tr>\n",
       "  </thead>\n",
       "  <tbody>\n",
       "    <tr>\n",
       "      <th>0</th>\n",
       "      <td>CEO</td>\n",
       "      <td>Geral</td>\n",
       "      <td>NaN</td>\n",
       "    </tr>\n",
       "    <tr>\n",
       "      <th>1</th>\n",
       "      <td>Diretor</td>\n",
       "      <td>Produtos</td>\n",
       "      <td>NaN</td>\n",
       "    </tr>\n",
       "    <tr>\n",
       "      <th>2</th>\n",
       "      <td>Diretor</td>\n",
       "      <td>Engenharia</td>\n",
       "      <td>NaN</td>\n",
       "    </tr>\n",
       "    <tr>\n",
       "      <th>3</th>\n",
       "      <td>Diretor</td>\n",
       "      <td>Relacionamento com Clientes</td>\n",
       "      <td>NaN</td>\n",
       "    </tr>\n",
       "    <tr>\n",
       "      <th>4</th>\n",
       "      <td>Diretor</td>\n",
       "      <td>Administrativo</td>\n",
       "      <td>NaN</td>\n",
       "    </tr>\n",
       "    <tr>\n",
       "      <th>5</th>\n",
       "      <td>Diretor</td>\n",
       "      <td>Pessoas</td>\n",
       "      <td>NaN</td>\n",
       "    </tr>\n",
       "    <tr>\n",
       "      <th>6</th>\n",
       "      <td>Gerente</td>\n",
       "      <td>Produtos</td>\n",
       "      <td>Produtos horizontais</td>\n",
       "    </tr>\n",
       "    <tr>\n",
       "      <th>7</th>\n",
       "      <td>Gerente</td>\n",
       "      <td>Produtos</td>\n",
       "      <td>Produtos horizontais</td>\n",
       "    </tr>\n",
       "    <tr>\n",
       "      <th>8</th>\n",
       "      <td>Gerente</td>\n",
       "      <td>Produtos</td>\n",
       "      <td>Produtos verticais</td>\n",
       "    </tr>\n",
       "    <tr>\n",
       "      <th>9</th>\n",
       "      <td>Gerente</td>\n",
       "      <td>Produtos</td>\n",
       "      <td>Áreas comuns</td>\n",
       "    </tr>\n",
       "  </tbody>\n",
       "</table>\n",
       "</div>"
      ],
      "text/plain": [
       "     Cargo                    Diretoria          Departamento\n",
       "0      CEO                        Geral                   NaN\n",
       "1  Diretor                     Produtos                   NaN\n",
       "2  Diretor                   Engenharia                   NaN\n",
       "3  Diretor  Relacionamento com Clientes                   NaN\n",
       "4  Diretor               Administrativo                   NaN\n",
       "5  Diretor                      Pessoas                   NaN\n",
       "6  Gerente                     Produtos  Produtos horizontais\n",
       "7  Gerente                     Produtos  Produtos horizontais\n",
       "8  Gerente                     Produtos    Produtos verticais\n",
       "9  Gerente                     Produtos          Áreas comuns"
      ]
     },
     "execution_count": 20,
     "metadata": {},
     "output_type": "execute_result"
    }
   ],
   "source": [
    "# importar os módulos necessários\n",
    "import pandas as pd\n",
    "import matplotlib.pyplot as plt\n",
    "import seaborn as sns\n",
    "import numpy as np\n",
    "%matplotlib inline\n",
    "# importar o arquivo em excel, no formato de dataframe\n",
    "df_case = pd.read_excel('Case_1_20230123.xlsx')\n",
    "# criar uma cópia do datagframe para realizar a limpeza \n",
    "df = df_case.copy()\n",
    "# remover a coluna Nome\n",
    "df.drop('Nome', axis=1, inplace=True)\n",
    "# mostrar as 10 primeiras linhas\n",
    "df.head(10)"
   ]
  },
  {
   "cell_type": "markdown",
   "id": "01b6e7b3",
   "metadata": {
    "slideshow": {
     "slide_type": "slide"
    }
   },
   "source": [
    "Foi dada a informação que alguns sistemas podem não estar funcionando adequadamente, por isso, podemos ter uma ideia da distribuição do número de funcionários por diretoria: "
   ]
  },
  {
   "cell_type": "code",
   "execution_count": 38,
   "id": "be809443",
   "metadata": {
    "slideshow": {
     "slide_type": "fragment"
    }
   },
   "outputs": [
    {
     "data": {
      "image/png": "[encoded data removed]",
      "text/plain": [
       "<Figure size 720x360 with 1 Axes>"
      ]
     },
     "metadata": {
      "needs_background": "light"
     },
     "output_type": "display_data"
    }
   ],
   "source": [
    "base_color = sns.color_palette()[0]\n",
    "\n",
    "dpt_order = df['Diretoria'].value_counts().index\n",
    "\n",
    "plt.figure(figsize = [10, 5])\n",
    "ax = sns.countplot(data=df, y='Diretoria', color=base_color, order=dpt_order)\n",
    "\n",
    "ax.bar_label(ax.containers[0])\n",
    "plt.title('Número de funcionários por diretoria')\n",
    "plt.xlabel('Frequência');"
   ]
  },
  {
   "cell_type": "markdown",
   "id": "3bc50fe3",
   "metadata": {
    "slideshow": {
     "slide_type": "subslide"
    }
   },
   "source": [
    "Como são cinco diretorias e existem 5 pessoas capacitadas para automação e dados, a primeira estratégia seria deixar uma pessoa responsável para estudar e entender as demandas de cada diretoria, e futuramente contratar mais pessoas para a área.\n",
    "\n",
    "Além disso, podemos perceber que a diretoria de Pessoas possui bem menos funcionários que as outras. Uma primeira medida que poderia ser tomada seria realocar de outras diretorias (talvez Relacionamento com Clientes), como uma medida imediata, e ao longo prazo, aumentar o número de pessoas para a diretoria, contratando mais."
   ]
  },
  {
   "cell_type": "markdown",
   "id": "43e276d5",
   "metadata": {
    "slideshow": {
     "slide_type": "slide"
    }
   },
   "source": [
    "Podemos ver também a distribuição dos funcionários por departamento:"
   ]
  },
  {
   "cell_type": "code",
   "execution_count": 32,
   "id": "0dfda11e",
   "metadata": {
    "slideshow": {
     "slide_type": "fragment"
    }
   },
   "outputs": [
    {
     "data": {
      "image/png": "[encoded data removed]",
      "text/plain": [
       "<Figure size 1080x720 with 1 Axes>"
      ]
     },
     "metadata": {
      "needs_background": "light"
     },
     "output_type": "display_data"
    }
   ],
   "source": [
    "dpt_order = df['Departamento'].value_counts().index\n",
    "\n",
    "plt.figure(figsize = [15, 10])\n",
    "ax = sns.countplot(data=df, y='Departamento', color=base_color, order=dpt_order)\n",
    "\n",
    "ax.bar_label(ax.containers[0])\n",
    "plt.title('Número de funcionários por departamento')\n",
    "plt.xlabel('Frequência');"
   ]
  },
  {
   "cell_type": "markdown",
   "id": "07aa1486",
   "metadata": {
    "slideshow": {
     "slide_type": "subslide"
    }
   },
   "source": [
    "Outra informação dada é a de que a empresa pode investir 2 milhões em novos projetos. Com a distribuição dos funcionários por departamento, percebe-se que devem haver contratações na área de Projetos, podendo até dobrar o número de funcionários.\n",
    "\n",
    "Com o aumento de projetos e funcionários do departamento, será necessário mais funcionários na área de vendas, por consequência.\n",
    "\n",
    "Como última estratégia, para as contratações, devem-se levar em conta fortemente o departamento de Pessoas e os responsáveis por automação e dados, analisando as metas e vendo a necessidade de mais contratações."
   ]
  },
  {
   "cell_type": "markdown",
   "id": "c1b7449d",
   "metadata": {
    "slideshow": {
     "slide_type": "slide"
    }
   },
   "source": [
    "Para isso, foi criado um plano de crescimento, visto na tabela abaixo:"
   ]
  },
  {
   "attachments": {
    "image.png": {
     "image/png": "[encoded data removed]"
    }
   },
   "cell_type": "markdown",
   "id": "87e10e3a",
   "metadata": {
    "slideshow": {
     "slide_type": "fragment"
    }
   },
   "source": [
    "![image.png](attachment:image.png)"
   ]
  },
  {
   "cell_type": "markdown",
   "id": "413b7b62",
   "metadata": {
    "slideshow": {
     "slide_type": "slide"
    }
   },
   "source": [
    "Por fim, as estrategias podem ser resumidas abaixo:\n",
    "\n",
    "* Alocar cada funcionário responsável pela automação e dados para uma diretoria, e se possível contratar mais um para cada área para auxiliar;\n",
    "\n",
    "* Aumentar a diretoria de Pessoas, com contratações imediatas;\n",
    "\n",
    "* Contratar funcionários para o departamento de Projetos;\n",
    "\n",
    "* Contratar funcionários para o departamento de Vendas;\n",
    "\n",
    "* Alinhamento das áreas de dados e Pessoas, e montar o cronograma de cresimento de pessoas\n"
   ]
  },
  {
   "cell_type": "markdown",
   "id": "4be27e1e",
   "metadata": {
    "slideshow": {
     "slide_type": "slide"
    }
   },
   "source": [
    "# Obrigado pela atenção"
   ]
  },
  {
   "cell_type": "code",
   "execution_count": 39,
   "id": "0604fbef",
   "metadata": {
    "slideshow": {
     "slide_type": "skip"
    }
   },
   "outputs": [
    {
     "name": "stderr",
     "output_type": "stream",
     "text": [
      "[NbConvertApp] Converting notebook Apresentação-EkkoGroup.ipynb to slides\n",
      "[NbConvertApp] Writing 655633 bytes to Apresentação-EkkoGroup.slides.html\n"
     ]
    }
   ],
   "source": [
    "!jupyter nbconvert --to slides --no-input Apresentação-EkkoGroup.ipynb"
   ]
  },
  {
   "cell_type": "code",
   "execution_count": null,
   "id": "05f8aa81",
   "metadata": {
    "slideshow": {
     "slide_type": "skip"
    }
   },
   "outputs": [],
   "source": []
  }
 ],
 "metadata": {
  "celltoolbar": "Slideshow",
  "kernelspec": {
   "display_name": "Python 3 (ipykernel)",
   "language": "python",
   "name": "python3"
  },
  "language_info": {
   "codemirror_mode": {
    "name": "ipython",
    "version": 3
   },
   "file_extension": ".py",
   "mimetype": "text/x-python",
   "name": "python",
   "nbconvert_exporter": "python",
   "pygments_lexer": "ipython3",
   "version": "3.9.12"
  }
 },
 "nbformat": 4,
 "nbformat_minor": 5
}
