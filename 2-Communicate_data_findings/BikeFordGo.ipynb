{
 "cells": [
  {
   "cell_type": "markdown",
   "id": "9afe72ed",
   "metadata": {},
   "source": [
    "# Ford GoBike System Data\n",
    "## by Araldo Rodrigues"
   ]
  },
  {
   "cell_type": "markdown",
   "id": "1515df38",
   "metadata": {},
   "source": [
    "## Introduction\n",
    "\n",
    "The dataset used in this project contains information about rides that were made in a bike-sharing system, that covers the great San Francisco. Initially, it has 16 variables, which will be further explored to extract insights. \n",
    "Before any analysis, the dataset will be stored and loaded in the notebook, the data will be cleaned, and them assessed, to get these insights through visualization"
   ]
  },
  {
   "cell_type": "markdown",
   "id": "cf4fcf3a",
   "metadata": {},
   "source": [
    "## Preliminary Wrangling"
   ]
  },
  {
   "cell_type": "markdown",
   "id": "cd37a76d",
   "metadata": {},
   "source": [
    "The necessary libraries needed for the project are imported below:"
   ]
  },
  {
   "cell_type": "code",
   "execution_count": 1,
   "id": "5fbf6ed7",
   "metadata": {},
   "outputs": [],
   "source": [
    "import numpy as np\n",
    "import pandas as pd\n",
    "import matplotlib.pyplot as plt\n",
    "import seaborn as sns\n",
    "%matplotlib inline"
   ]
  },
  {
   "cell_type": "markdown",
   "id": "dc67b0aa",
   "metadata": {},
   "source": [
    "We can see the first five rows of the dataset:"
   ]
  },
  {
   "cell_type": "code",
   "execution_count": 2,
   "id": "a2b31a7c",
   "metadata": {},
   "outputs": [
    {
     "data": {
      "text/html": [
       "<div>\n",
       "<style scoped>\n",
       "    .dataframe tbody tr th:only-of-type {\n",
       "        vertical-align: middle;\n",
       "    }\n",
       "\n",
       "    .dataframe tbody tr th {\n",
       "        vertical-align: top;\n",
       "    }\n",
       "\n",
       "    .dataframe thead th {\n",
       "        text-align: right;\n",
       "    }\n",
       "</style>\n",
       "<table border=\"1\" class=\"dataframe\">\n",
       "  <thead>\n",
       "    <tr style=\"text-align: right;\">\n",
       "      <th></th>\n",
       "      <th>duration_sec</th>\n",
       "      <th>start_time</th>\n",
       "      <th>end_time</th>\n",
       "      <th>start_station_id</th>\n",
       "      <th>start_station_name</th>\n",
       "      <th>start_station_latitude</th>\n",
       "      <th>start_station_longitude</th>\n",
       "      <th>end_station_id</th>\n",
       "      <th>end_station_name</th>\n",
       "      <th>end_station_latitude</th>\n",
       "      <th>end_station_longitude</th>\n",
       "      <th>bike_id</th>\n",
       "      <th>user_type</th>\n",
       "      <th>member_birth_year</th>\n",
       "      <th>member_gender</th>\n",
       "      <th>bike_share_for_all_trip</th>\n",
       "    </tr>\n",
       "  </thead>\n",
       "  <tbody>\n",
       "    <tr>\n",
       "      <th>0</th>\n",
       "      <td>52185</td>\n",
       "      <td>2019-02-28 17:32:10.1450</td>\n",
       "      <td>2019-03-01 08:01:55.9750</td>\n",
       "      <td>21.0</td>\n",
       "      <td>Montgomery St BART Station (Market St at 2nd St)</td>\n",
       "      <td>37.789625</td>\n",
       "      <td>-122.400811</td>\n",
       "      <td>13.0</td>\n",
       "      <td>Commercial St at Montgomery St</td>\n",
       "      <td>37.794231</td>\n",
       "      <td>-122.402923</td>\n",
       "      <td>4902</td>\n",
       "      <td>Customer</td>\n",
       "      <td>1984.0</td>\n",
       "      <td>Male</td>\n",
       "      <td>No</td>\n",
       "    </tr>\n",
       "    <tr>\n",
       "      <th>1</th>\n",
       "      <td>42521</td>\n",
       "      <td>2019-02-28 18:53:21.7890</td>\n",
       "      <td>2019-03-01 06:42:03.0560</td>\n",
       "      <td>23.0</td>\n",
       "      <td>The Embarcadero at Steuart St</td>\n",
       "      <td>37.791464</td>\n",
       "      <td>-122.391034</td>\n",
       "      <td>81.0</td>\n",
       "      <td>Berry St at 4th St</td>\n",
       "      <td>37.775880</td>\n",
       "      <td>-122.393170</td>\n",
       "      <td>2535</td>\n",
       "      <td>Customer</td>\n",
       "      <td>NaN</td>\n",
       "      <td>NaN</td>\n",
       "      <td>No</td>\n",
       "    </tr>\n",
       "    <tr>\n",
       "      <th>2</th>\n",
       "      <td>61854</td>\n",
       "      <td>2019-02-28 12:13:13.2180</td>\n",
       "      <td>2019-03-01 05:24:08.1460</td>\n",
       "      <td>86.0</td>\n",
       "      <td>Market St at Dolores St</td>\n",
       "      <td>37.769305</td>\n",
       "      <td>-122.426826</td>\n",
       "      <td>3.0</td>\n",
       "      <td>Powell St BART Station (Market St at 4th St)</td>\n",
       "      <td>37.786375</td>\n",
       "      <td>-122.404904</td>\n",
       "      <td>5905</td>\n",
       "      <td>Customer</td>\n",
       "      <td>1972.0</td>\n",
       "      <td>Male</td>\n",
       "      <td>No</td>\n",
       "    </tr>\n",
       "    <tr>\n",
       "      <th>3</th>\n",
       "      <td>36490</td>\n",
       "      <td>2019-02-28 17:54:26.0100</td>\n",
       "      <td>2019-03-01 04:02:36.8420</td>\n",
       "      <td>375.0</td>\n",
       "      <td>Grove St at Masonic Ave</td>\n",
       "      <td>37.774836</td>\n",
       "      <td>-122.446546</td>\n",
       "      <td>70.0</td>\n",
       "      <td>Central Ave at Fell St</td>\n",
       "      <td>37.773311</td>\n",
       "      <td>-122.444293</td>\n",
       "      <td>6638</td>\n",
       "      <td>Subscriber</td>\n",
       "      <td>1989.0</td>\n",
       "      <td>Other</td>\n",
       "      <td>No</td>\n",
       "    </tr>\n",
       "    <tr>\n",
       "      <th>4</th>\n",
       "      <td>1585</td>\n",
       "      <td>2019-02-28 23:54:18.5490</td>\n",
       "      <td>2019-03-01 00:20:44.0740</td>\n",
       "      <td>7.0</td>\n",
       "      <td>Frank H Ogawa Plaza</td>\n",
       "      <td>37.804562</td>\n",
       "      <td>-122.271738</td>\n",
       "      <td>222.0</td>\n",
       "      <td>10th Ave at E 15th St</td>\n",
       "      <td>37.792714</td>\n",
       "      <td>-122.248780</td>\n",
       "      <td>4898</td>\n",
       "      <td>Subscriber</td>\n",
       "      <td>1974.0</td>\n",
       "      <td>Male</td>\n",
       "      <td>Yes</td>\n",
       "    </tr>\n",
       "  </tbody>\n",
       "</table>\n",
       "</div>"
      ],
      "text/plain": [
       "   duration_sec                start_time                  end_time  \\\n",
       "0         52185  2019-02-28 17:32:10.1450  2019-03-01 08:01:55.9750   \n",
       "1         42521  2019-02-28 18:53:21.7890  2019-03-01 06:42:03.0560   \n",
       "2         61854  2019-02-28 12:13:13.2180  2019-03-01 05:24:08.1460   \n",
       "3         36490  2019-02-28 17:54:26.0100  2019-03-01 04:02:36.8420   \n",
       "4          1585  2019-02-28 23:54:18.5490  2019-03-01 00:20:44.0740   \n",
       "\n",
       "   start_station_id                                start_station_name  \\\n",
       "0              21.0  Montgomery St BART Station (Market St at 2nd St)   \n",
       "1              23.0                     The Embarcadero at Steuart St   \n",
       "2              86.0                           Market St at Dolores St   \n",
       "3             375.0                           Grove St at Masonic Ave   \n",
       "4               7.0                               Frank H Ogawa Plaza   \n",
       "\n",
       "   start_station_latitude  start_station_longitude  end_station_id  \\\n",
       "0               37.789625              -122.400811            13.0   \n",
       "1               37.791464              -122.391034            81.0   \n",
       "2               37.769305              -122.426826             3.0   \n",
       "3               37.774836              -122.446546            70.0   \n",
       "4               37.804562              -122.271738           222.0   \n",
       "\n",
       "                               end_station_name  end_station_latitude  \\\n",
       "0                Commercial St at Montgomery St             37.794231   \n",
       "1                            Berry St at 4th St             37.775880   \n",
       "2  Powell St BART Station (Market St at 4th St)             37.786375   \n",
       "3                        Central Ave at Fell St             37.773311   \n",
       "4                         10th Ave at E 15th St             37.792714   \n",
       "\n",
       "   end_station_longitude  bike_id   user_type  member_birth_year  \\\n",
       "0            -122.402923     4902    Customer             1984.0   \n",
       "1            -122.393170     2535    Customer                NaN   \n",
       "2            -122.404904     5905    Customer             1972.0   \n",
       "3            -122.444293     6638  Subscriber             1989.0   \n",
       "4            -122.248780     4898  Subscriber             1974.0   \n",
       "\n",
       "  member_gender bike_share_for_all_trip  \n",
       "0          Male                      No  \n",
       "1           NaN                      No  \n",
       "2          Male                      No  \n",
       "3         Other                      No  \n",
       "4          Male                     Yes  "
      ]
     },
     "execution_count": 2,
     "metadata": {},
     "output_type": "execute_result"
    }
   ],
   "source": [
    "bike_df = pd.read_csv('201902-fordgobike-tripdata.csv')\n",
    "bike_df.head()"
   ]
  },
  {
   "cell_type": "markdown",
   "id": "8739088e",
   "metadata": {},
   "source": [
    "Before any further coding, we will make a copy of the dataset:"
   ]
  },
  {
   "cell_type": "code",
   "execution_count": 3,
   "id": "c4e0debd",
   "metadata": {},
   "outputs": [],
   "source": [
    "bike = bike_df.copy()"
   ]
  },
  {
   "cell_type": "markdown",
   "id": "bde0ca50",
   "metadata": {},
   "source": [
    "Now, for the Data Wrangling process, we will make some changes in the columns"
   ]
  },
  {
   "cell_type": "markdown",
   "id": "0a78ed89",
   "metadata": {},
   "source": [
    "Remove any row with missing value:"
   ]
  },
  {
   "cell_type": "code",
   "execution_count": 4,
   "id": "a96bf71d",
   "metadata": {},
   "outputs": [
    {
     "data": {
      "text/plain": [
       "False"
      ]
     },
     "execution_count": 4,
     "metadata": {},
     "output_type": "execute_result"
    }
   ],
   "source": [
    "bike.dropna(inplace=True)\n",
    "bike.isnull().sum().any() # confirm the dataframe has no missing values"
   ]
  },
  {
   "cell_type": "markdown",
   "id": "5a53e178",
   "metadata": {},
   "source": [
    "Remove any duplicated rows if exists:"
   ]
  },
  {
   "cell_type": "code",
   "execution_count": 5,
   "id": "48e14c10",
   "metadata": {},
   "outputs": [],
   "source": [
    "bike.drop_duplicates(inplace=True)\n",
    "bike.reset_index(inplace=True) # reset the index of the dataframe\n",
    "bike.drop(['index'], axis=1, inplace=True)"
   ]
  },
  {
   "cell_type": "markdown",
   "id": "afc0f759",
   "metadata": {},
   "source": [
    "Change member_birth_year to int:"
   ]
  },
  {
   "cell_type": "code",
   "execution_count": 6,
   "id": "2c0c8db4",
   "metadata": {},
   "outputs": [
    {
     "name": "stdout",
     "output_type": "stream",
     "text": [
      "<class 'pandas.core.frame.DataFrame'>\n",
      "RangeIndex: 174952 entries, 0 to 174951\n",
      "Data columns (total 16 columns):\n",
      " #   Column                   Non-Null Count   Dtype  \n",
      "---  ------                   --------------   -----  \n",
      " 0   duration_sec             174952 non-null  int64  \n",
      " 1   start_time               174952 non-null  object \n",
      " 2   end_time                 174952 non-null  object \n",
      " 3   start_station_id         174952 non-null  float64\n",
      " 4   start_station_name       174952 non-null  object \n",
      " 5   start_station_latitude   174952 non-null  float64\n",
      " 6   start_station_longitude  174952 non-null  float64\n",
      " 7   end_station_id           174952 non-null  float64\n",
      " 8   end_station_name         174952 non-null  object \n",
      " 9   end_station_latitude     174952 non-null  float64\n",
      " 10  end_station_longitude    174952 non-null  float64\n",
      " 11  bike_id                  174952 non-null  int64  \n",
      " 12  user_type                174952 non-null  object \n",
      " 13  member_birth_year        174952 non-null  int32  \n",
      " 14  member_gender            174952 non-null  object \n",
      " 15  bike_share_for_all_trip  174952 non-null  object \n",
      "dtypes: float64(6), int32(1), int64(2), object(7)\n",
      "memory usage: 20.7+ MB\n"
     ]
    }
   ],
   "source": [
    "bike['member_birth_year'] = bike['member_birth_year'].astype('int')\n",
    "bike.info()"
   ]
  },
  {
   "cell_type": "markdown",
   "id": "72478455",
   "metadata": {},
   "source": [
    "Change the bike_id, start_station_id and end_station_id to object dataype:"
   ]
  },
  {
   "cell_type": "code",
   "execution_count": 7,
   "id": "a8a01cb3",
   "metadata": {},
   "outputs": [
    {
     "name": "stdout",
     "output_type": "stream",
     "text": [
      "<class 'pandas.core.frame.DataFrame'>\n",
      "RangeIndex: 174952 entries, 0 to 174951\n",
      "Data columns (total 16 columns):\n",
      " #   Column                   Non-Null Count   Dtype  \n",
      "---  ------                   --------------   -----  \n",
      " 0   duration_sec             174952 non-null  int64  \n",
      " 1   start_time               174952 non-null  object \n",
      " 2   end_time                 174952 non-null  object \n",
      " 3   start_station_id         174952 non-null  object \n",
      " 4   start_station_name       174952 non-null  object \n",
      " 5   start_station_latitude   174952 non-null  float64\n",
      " 6   start_station_longitude  174952 non-null  float64\n",
      " 7   end_station_id           174952 non-null  object \n",
      " 8   end_station_name         174952 non-null  object \n",
      " 9   end_station_latitude     174952 non-null  float64\n",
      " 10  end_station_longitude    174952 non-null  float64\n",
      " 11  bike_id                  174952 non-null  object \n",
      " 12  user_type                174952 non-null  object \n",
      " 13  member_birth_year        174952 non-null  int32  \n",
      " 14  member_gender            174952 non-null  object \n",
      " 15  bike_share_for_all_trip  174952 non-null  object \n",
      "dtypes: float64(4), int32(1), int64(1), object(10)\n",
      "memory usage: 20.7+ MB\n"
     ]
    }
   ],
   "source": [
    "bike['bike_id'] = bike['bike_id'].astype(str)\n",
    "\n",
    "bike['start_station_id'] = bike['start_station_id'].astype(str)\n",
    "bike['start_station_id'] = bike['start_station_id'].str.split('.').str[0] # eliminate the decimal value\n",
    "\n",
    "bike['end_station_id'] = bike['end_station_id'].astype(str)\n",
    "bike['end_station_id'] = bike['end_station_id'].str.split('.').str[0] # eliminate the decimal value\n",
    "\n",
    "bike.info()"
   ]
  },
  {
   "cell_type": "markdown",
   "id": "ef7aa854",
   "metadata": {},
   "source": [
    "Separate the year and time in start_time and end_time, creating new columns to store each information individually:"
   ]
  },
  {
   "cell_type": "code",
   "execution_count": 8,
   "id": "7d82606e",
   "metadata": {},
   "outputs": [
    {
     "data": {
      "text/html": [
       "<div>\n",
       "<style scoped>\n",
       "    .dataframe tbody tr th:only-of-type {\n",
       "        vertical-align: middle;\n",
       "    }\n",
       "\n",
       "    .dataframe tbody tr th {\n",
       "        vertical-align: top;\n",
       "    }\n",
       "\n",
       "    .dataframe thead th {\n",
       "        text-align: right;\n",
       "    }\n",
       "</style>\n",
       "<table border=\"1\" class=\"dataframe\">\n",
       "  <thead>\n",
       "    <tr style=\"text-align: right;\">\n",
       "      <th></th>\n",
       "      <th>duration_sec</th>\n",
       "      <th>start_time</th>\n",
       "      <th>end_time</th>\n",
       "      <th>start_station_id</th>\n",
       "      <th>start_station_name</th>\n",
       "      <th>start_station_latitude</th>\n",
       "      <th>start_station_longitude</th>\n",
       "      <th>end_station_id</th>\n",
       "      <th>end_station_name</th>\n",
       "      <th>end_station_latitude</th>\n",
       "      <th>end_station_longitude</th>\n",
       "      <th>bike_id</th>\n",
       "      <th>user_type</th>\n",
       "      <th>member_birth_year</th>\n",
       "      <th>member_gender</th>\n",
       "      <th>bike_share_for_all_trip</th>\n",
       "      <th>start_date</th>\n",
       "      <th>end_date</th>\n",
       "    </tr>\n",
       "  </thead>\n",
       "  <tbody>\n",
       "    <tr>\n",
       "      <th>0</th>\n",
       "      <td>52185</td>\n",
       "      <td>17:32:10.1450</td>\n",
       "      <td>08:01:55.9750</td>\n",
       "      <td>21</td>\n",
       "      <td>Montgomery St BART Station (Market St at 2nd St)</td>\n",
       "      <td>37.789625</td>\n",
       "      <td>-122.400811</td>\n",
       "      <td>13</td>\n",
       "      <td>Commercial St at Montgomery St</td>\n",
       "      <td>37.794231</td>\n",
       "      <td>-122.402923</td>\n",
       "      <td>4902</td>\n",
       "      <td>Customer</td>\n",
       "      <td>1984</td>\n",
       "      <td>Male</td>\n",
       "      <td>No</td>\n",
       "      <td>2019-02-28</td>\n",
       "      <td>2019-03-01</td>\n",
       "    </tr>\n",
       "    <tr>\n",
       "      <th>1</th>\n",
       "      <td>61854</td>\n",
       "      <td>12:13:13.2180</td>\n",
       "      <td>05:24:08.1460</td>\n",
       "      <td>86</td>\n",
       "      <td>Market St at Dolores St</td>\n",
       "      <td>37.769305</td>\n",
       "      <td>-122.426826</td>\n",
       "      <td>3</td>\n",
       "      <td>Powell St BART Station (Market St at 4th St)</td>\n",
       "      <td>37.786375</td>\n",
       "      <td>-122.404904</td>\n",
       "      <td>5905</td>\n",
       "      <td>Customer</td>\n",
       "      <td>1972</td>\n",
       "      <td>Male</td>\n",
       "      <td>No</td>\n",
       "      <td>2019-02-28</td>\n",
       "      <td>2019-03-01</td>\n",
       "    </tr>\n",
       "    <tr>\n",
       "      <th>2</th>\n",
       "      <td>36490</td>\n",
       "      <td>17:54:26.0100</td>\n",
       "      <td>04:02:36.8420</td>\n",
       "      <td>375</td>\n",
       "      <td>Grove St at Masonic Ave</td>\n",
       "      <td>37.774836</td>\n",
       "      <td>-122.446546</td>\n",
       "      <td>70</td>\n",
       "      <td>Central Ave at Fell St</td>\n",
       "      <td>37.773311</td>\n",
       "      <td>-122.444293</td>\n",
       "      <td>6638</td>\n",
       "      <td>Subscriber</td>\n",
       "      <td>1989</td>\n",
       "      <td>Other</td>\n",
       "      <td>No</td>\n",
       "      <td>2019-02-28</td>\n",
       "      <td>2019-03-01</td>\n",
       "    </tr>\n",
       "    <tr>\n",
       "      <th>3</th>\n",
       "      <td>1585</td>\n",
       "      <td>23:54:18.5490</td>\n",
       "      <td>00:20:44.0740</td>\n",
       "      <td>7</td>\n",
       "      <td>Frank H Ogawa Plaza</td>\n",
       "      <td>37.804562</td>\n",
       "      <td>-122.271738</td>\n",
       "      <td>222</td>\n",
       "      <td>10th Ave at E 15th St</td>\n",
       "      <td>37.792714</td>\n",
       "      <td>-122.248780</td>\n",
       "      <td>4898</td>\n",
       "      <td>Subscriber</td>\n",
       "      <td>1974</td>\n",
       "      <td>Male</td>\n",
       "      <td>Yes</td>\n",
       "      <td>2019-02-28</td>\n",
       "      <td>2019-03-01</td>\n",
       "    </tr>\n",
       "    <tr>\n",
       "      <th>4</th>\n",
       "      <td>1793</td>\n",
       "      <td>23:49:58.6320</td>\n",
       "      <td>00:19:51.7600</td>\n",
       "      <td>93</td>\n",
       "      <td>4th St at Mission Bay Blvd S</td>\n",
       "      <td>37.770407</td>\n",
       "      <td>-122.391198</td>\n",
       "      <td>323</td>\n",
       "      <td>Broadway at Kearny</td>\n",
       "      <td>37.798014</td>\n",
       "      <td>-122.405950</td>\n",
       "      <td>5200</td>\n",
       "      <td>Subscriber</td>\n",
       "      <td>1959</td>\n",
       "      <td>Male</td>\n",
       "      <td>No</td>\n",
       "      <td>2019-02-28</td>\n",
       "      <td>2019-03-01</td>\n",
       "    </tr>\n",
       "  </tbody>\n",
       "</table>\n",
       "</div>"
      ],
      "text/plain": [
       "   duration_sec     start_time       end_time start_station_id  \\\n",
       "0         52185  17:32:10.1450  08:01:55.9750               21   \n",
       "1         61854  12:13:13.2180  05:24:08.1460               86   \n",
       "2         36490  17:54:26.0100  04:02:36.8420              375   \n",
       "3          1585  23:54:18.5490  00:20:44.0740                7   \n",
       "4          1793  23:49:58.6320  00:19:51.7600               93   \n",
       "\n",
       "                                 start_station_name  start_station_latitude  \\\n",
       "0  Montgomery St BART Station (Market St at 2nd St)               37.789625   \n",
       "1                           Market St at Dolores St               37.769305   \n",
       "2                           Grove St at Masonic Ave               37.774836   \n",
       "3                               Frank H Ogawa Plaza               37.804562   \n",
       "4                      4th St at Mission Bay Blvd S               37.770407   \n",
       "\n",
       "   start_station_longitude end_station_id  \\\n",
       "0              -122.400811             13   \n",
       "1              -122.426826              3   \n",
       "2              -122.446546             70   \n",
       "3              -122.271738            222   \n",
       "4              -122.391198            323   \n",
       "\n",
       "                               end_station_name  end_station_latitude  \\\n",
       "0                Commercial St at Montgomery St             37.794231   \n",
       "1  Powell St BART Station (Market St at 4th St)             37.786375   \n",
       "2                        Central Ave at Fell St             37.773311   \n",
       "3                         10th Ave at E 15th St             37.792714   \n",
       "4                            Broadway at Kearny             37.798014   \n",
       "\n",
       "   end_station_longitude bike_id   user_type  member_birth_year member_gender  \\\n",
       "0            -122.402923    4902    Customer               1984          Male   \n",
       "1            -122.404904    5905    Customer               1972          Male   \n",
       "2            -122.444293    6638  Subscriber               1989         Other   \n",
       "3            -122.248780    4898  Subscriber               1974          Male   \n",
       "4            -122.405950    5200  Subscriber               1959          Male   \n",
       "\n",
       "  bike_share_for_all_trip  start_date    end_date  \n",
       "0                      No  2019-02-28  2019-03-01  \n",
       "1                      No  2019-02-28  2019-03-01  \n",
       "2                      No  2019-02-28  2019-03-01  \n",
       "3                     Yes  2019-02-28  2019-03-01  \n",
       "4                      No  2019-02-28  2019-03-01  "
      ]
     },
     "execution_count": 8,
     "metadata": {},
     "output_type": "execute_result"
    }
   ],
   "source": [
    "bike['start_date'] = bike['start_time'].str.split(' ').str[0]\n",
    "bike['start_time'] = bike['start_time'].str.split(' ').str[1]\n",
    "bike['end_date'] = bike['end_time'].str.split(' ').str[0]\n",
    "bike['end_time'] = bike['end_time'].str.split(' ').str[1]\n",
    "\n",
    "bike.head()"
   ]
  },
  {
   "cell_type": "markdown",
   "id": "1805b3a5",
   "metadata": {},
   "source": [
    "Create a column with the age of the customer when he rented a bike:"
   ]
  },
  {
   "cell_type": "code",
   "execution_count": 9,
   "id": "f5abedc7",
   "metadata": {},
   "outputs": [
    {
     "data": {
      "text/html": [
       "<div>\n",
       "<style scoped>\n",
       "    .dataframe tbody tr th:only-of-type {\n",
       "        vertical-align: middle;\n",
       "    }\n",
       "\n",
       "    .dataframe tbody tr th {\n",
       "        vertical-align: top;\n",
       "    }\n",
       "\n",
       "    .dataframe thead th {\n",
       "        text-align: right;\n",
       "    }\n",
       "</style>\n",
       "<table border=\"1\" class=\"dataframe\">\n",
       "  <thead>\n",
       "    <tr style=\"text-align: right;\">\n",
       "      <th></th>\n",
       "      <th>duration_sec</th>\n",
       "      <th>start_time</th>\n",
       "      <th>end_time</th>\n",
       "      <th>start_station_id</th>\n",
       "      <th>start_station_name</th>\n",
       "      <th>start_station_latitude</th>\n",
       "      <th>start_station_longitude</th>\n",
       "      <th>end_station_id</th>\n",
       "      <th>end_station_name</th>\n",
       "      <th>end_station_latitude</th>\n",
       "      <th>end_station_longitude</th>\n",
       "      <th>bike_id</th>\n",
       "      <th>user_type</th>\n",
       "      <th>member_birth_year</th>\n",
       "      <th>member_gender</th>\n",
       "      <th>bike_share_for_all_trip</th>\n",
       "      <th>start_date</th>\n",
       "      <th>end_date</th>\n",
       "      <th>member_age</th>\n",
       "    </tr>\n",
       "  </thead>\n",
       "  <tbody>\n",
       "    <tr>\n",
       "      <th>0</th>\n",
       "      <td>52185</td>\n",
       "      <td>17:32:10.1450</td>\n",
       "      <td>08:01:55.9750</td>\n",
       "      <td>21</td>\n",
       "      <td>Montgomery St BART Station (Market St at 2nd St)</td>\n",
       "      <td>37.789625</td>\n",
       "      <td>-122.400811</td>\n",
       "      <td>13</td>\n",
       "      <td>Commercial St at Montgomery St</td>\n",
       "      <td>37.794231</td>\n",
       "      <td>-122.402923</td>\n",
       "      <td>4902</td>\n",
       "      <td>Customer</td>\n",
       "      <td>1984</td>\n",
       "      <td>Male</td>\n",
       "      <td>No</td>\n",
       "      <td>2019-02-28</td>\n",
       "      <td>2019-03-01</td>\n",
       "      <td>35</td>\n",
       "    </tr>\n",
       "    <tr>\n",
       "      <th>1</th>\n",
       "      <td>61854</td>\n",
       "      <td>12:13:13.2180</td>\n",
       "      <td>05:24:08.1460</td>\n",
       "      <td>86</td>\n",
       "      <td>Market St at Dolores St</td>\n",
       "      <td>37.769305</td>\n",
       "      <td>-122.426826</td>\n",
       "      <td>3</td>\n",
       "      <td>Powell St BART Station (Market St at 4th St)</td>\n",
       "      <td>37.786375</td>\n",
       "      <td>-122.404904</td>\n",
       "      <td>5905</td>\n",
       "      <td>Customer</td>\n",
       "      <td>1972</td>\n",
       "      <td>Male</td>\n",
       "      <td>No</td>\n",
       "      <td>2019-02-28</td>\n",
       "      <td>2019-03-01</td>\n",
       "      <td>47</td>\n",
       "    </tr>\n",
       "    <tr>\n",
       "      <th>2</th>\n",
       "      <td>36490</td>\n",
       "      <td>17:54:26.0100</td>\n",
       "      <td>04:02:36.8420</td>\n",
       "      <td>375</td>\n",
       "      <td>Grove St at Masonic Ave</td>\n",
       "      <td>37.774836</td>\n",
       "      <td>-122.446546</td>\n",
       "      <td>70</td>\n",
       "      <td>Central Ave at Fell St</td>\n",
       "      <td>37.773311</td>\n",
       "      <td>-122.444293</td>\n",
       "      <td>6638</td>\n",
       "      <td>Subscriber</td>\n",
       "      <td>1989</td>\n",
       "      <td>Other</td>\n",
       "      <td>No</td>\n",
       "      <td>2019-02-28</td>\n",
       "      <td>2019-03-01</td>\n",
       "      <td>30</td>\n",
       "    </tr>\n",
       "    <tr>\n",
       "      <th>3</th>\n",
       "      <td>1585</td>\n",
       "      <td>23:54:18.5490</td>\n",
       "      <td>00:20:44.0740</td>\n",
       "      <td>7</td>\n",
       "      <td>Frank H Ogawa Plaza</td>\n",
       "      <td>37.804562</td>\n",
       "      <td>-122.271738</td>\n",
       "      <td>222</td>\n",
       "      <td>10th Ave at E 15th St</td>\n",
       "      <td>37.792714</td>\n",
       "      <td>-122.248780</td>\n",
       "      <td>4898</td>\n",
       "      <td>Subscriber</td>\n",
       "      <td>1974</td>\n",
       "      <td>Male</td>\n",
       "      <td>Yes</td>\n",
       "      <td>2019-02-28</td>\n",
       "      <td>2019-03-01</td>\n",
       "      <td>45</td>\n",
       "    </tr>\n",
       "    <tr>\n",
       "      <th>4</th>\n",
       "      <td>1793</td>\n",
       "      <td>23:49:58.6320</td>\n",
       "      <td>00:19:51.7600</td>\n",
       "      <td>93</td>\n",
       "      <td>4th St at Mission Bay Blvd S</td>\n",
       "      <td>37.770407</td>\n",
       "      <td>-122.391198</td>\n",
       "      <td>323</td>\n",
       "      <td>Broadway at Kearny</td>\n",
       "      <td>37.798014</td>\n",
       "      <td>-122.405950</td>\n",
       "      <td>5200</td>\n",
       "      <td>Subscriber</td>\n",
       "      <td>1959</td>\n",
       "      <td>Male</td>\n",
       "      <td>No</td>\n",
       "      <td>2019-02-28</td>\n",
       "      <td>2019-03-01</td>\n",
       "      <td>60</td>\n",
       "    </tr>\n",
       "  </tbody>\n",
       "</table>\n",
       "</div>"
      ],
      "text/plain": [
       "   duration_sec     start_time       end_time start_station_id  \\\n",
       "0         52185  17:32:10.1450  08:01:55.9750               21   \n",
       "1         61854  12:13:13.2180  05:24:08.1460               86   \n",
       "2         36490  17:54:26.0100  04:02:36.8420              375   \n",
       "3          1585  23:54:18.5490  00:20:44.0740                7   \n",
       "4          1793  23:49:58.6320  00:19:51.7600               93   \n",
       "\n",
       "                                 start_station_name  start_station_latitude  \\\n",
       "0  Montgomery St BART Station (Market St at 2nd St)               37.789625   \n",
       "1                           Market St at Dolores St               37.769305   \n",
       "2                           Grove St at Masonic Ave               37.774836   \n",
       "3                               Frank H Ogawa Plaza               37.804562   \n",
       "4                      4th St at Mission Bay Blvd S               37.770407   \n",
       "\n",
       "   start_station_longitude end_station_id  \\\n",
       "0              -122.400811             13   \n",
       "1              -122.426826              3   \n",
       "2              -122.446546             70   \n",
       "3              -122.271738            222   \n",
       "4              -122.391198            323   \n",
       "\n",
       "                               end_station_name  end_station_latitude  \\\n",
       "0                Commercial St at Montgomery St             37.794231   \n",
       "1  Powell St BART Station (Market St at 4th St)             37.786375   \n",
       "2                        Central Ave at Fell St             37.773311   \n",
       "3                         10th Ave at E 15th St             37.792714   \n",
       "4                            Broadway at Kearny             37.798014   \n",
       "\n",
       "   end_station_longitude bike_id   user_type  member_birth_year member_gender  \\\n",
       "0            -122.402923    4902    Customer               1984          Male   \n",
       "1            -122.404904    5905    Customer               1972          Male   \n",
       "2            -122.444293    6638  Subscriber               1989         Other   \n",
       "3            -122.248780    4898  Subscriber               1974          Male   \n",
       "4            -122.405950    5200  Subscriber               1959          Male   \n",
       "\n",
       "  bike_share_for_all_trip  start_date    end_date  member_age  \n",
       "0                      No  2019-02-28  2019-03-01          35  \n",
       "1                      No  2019-02-28  2019-03-01          47  \n",
       "2                      No  2019-02-28  2019-03-01          30  \n",
       "3                     Yes  2019-02-28  2019-03-01          45  \n",
       "4                      No  2019-02-28  2019-03-01          60  "
      ]
     },
     "execution_count": 9,
     "metadata": {},
     "output_type": "execute_result"
    }
   ],
   "source": [
    "bike['member_age'] = bike['start_date'].str.split('-').str[0].astype(int)\n",
    "bike['member_age'] = bike['member_age'] - bike['member_birth_year']\n",
    "bike.head()"
   ]
  },
  {
   "cell_type": "markdown",
   "id": "f12d6822",
   "metadata": {},
   "source": [
    "Convert the start_year and end_year columns to datetime format:"
   ]
  },
  {
   "cell_type": "code",
   "execution_count": 10,
   "id": "439f132f",
   "metadata": {},
   "outputs": [
    {
     "data": {
      "text/html": [
       "<div>\n",
       "<style scoped>\n",
       "    .dataframe tbody tr th:only-of-type {\n",
       "        vertical-align: middle;\n",
       "    }\n",
       "\n",
       "    .dataframe tbody tr th {\n",
       "        vertical-align: top;\n",
       "    }\n",
       "\n",
       "    .dataframe thead th {\n",
       "        text-align: right;\n",
       "    }\n",
       "</style>\n",
       "<table border=\"1\" class=\"dataframe\">\n",
       "  <thead>\n",
       "    <tr style=\"text-align: right;\">\n",
       "      <th></th>\n",
       "      <th>duration_sec</th>\n",
       "      <th>start_time</th>\n",
       "      <th>end_time</th>\n",
       "      <th>start_station_id</th>\n",
       "      <th>start_station_name</th>\n",
       "      <th>start_station_latitude</th>\n",
       "      <th>start_station_longitude</th>\n",
       "      <th>end_station_id</th>\n",
       "      <th>end_station_name</th>\n",
       "      <th>end_station_latitude</th>\n",
       "      <th>end_station_longitude</th>\n",
       "      <th>bike_id</th>\n",
       "      <th>user_type</th>\n",
       "      <th>member_birth_year</th>\n",
       "      <th>member_gender</th>\n",
       "      <th>bike_share_for_all_trip</th>\n",
       "      <th>start_date</th>\n",
       "      <th>end_date</th>\n",
       "      <th>member_age</th>\n",
       "    </tr>\n",
       "  </thead>\n",
       "  <tbody>\n",
       "    <tr>\n",
       "      <th>0</th>\n",
       "      <td>52185</td>\n",
       "      <td>17:32:10.1450</td>\n",
       "      <td>08:01:55.9750</td>\n",
       "      <td>21</td>\n",
       "      <td>Montgomery St BART Station (Market St at 2nd St)</td>\n",
       "      <td>37.789625</td>\n",
       "      <td>-122.400811</td>\n",
       "      <td>13</td>\n",
       "      <td>Commercial St at Montgomery St</td>\n",
       "      <td>37.794231</td>\n",
       "      <td>-122.402923</td>\n",
       "      <td>4902</td>\n",
       "      <td>Customer</td>\n",
       "      <td>1984</td>\n",
       "      <td>Male</td>\n",
       "      <td>No</td>\n",
       "      <td>2019-02-28</td>\n",
       "      <td>2019-03-01</td>\n",
       "      <td>35</td>\n",
       "    </tr>\n",
       "    <tr>\n",
       "      <th>1</th>\n",
       "      <td>61854</td>\n",
       "      <td>12:13:13.2180</td>\n",
       "      <td>05:24:08.1460</td>\n",
       "      <td>86</td>\n",
       "      <td>Market St at Dolores St</td>\n",
       "      <td>37.769305</td>\n",
       "      <td>-122.426826</td>\n",
       "      <td>3</td>\n",
       "      <td>Powell St BART Station (Market St at 4th St)</td>\n",
       "      <td>37.786375</td>\n",
       "      <td>-122.404904</td>\n",
       "      <td>5905</td>\n",
       "      <td>Customer</td>\n",
       "      <td>1972</td>\n",
       "      <td>Male</td>\n",
       "      <td>No</td>\n",
       "      <td>2019-02-28</td>\n",
       "      <td>2019-03-01</td>\n",
       "      <td>47</td>\n",
       "    </tr>\n",
       "    <tr>\n",
       "      <th>2</th>\n",
       "      <td>36490</td>\n",
       "      <td>17:54:26.0100</td>\n",
       "      <td>04:02:36.8420</td>\n",
       "      <td>375</td>\n",
       "      <td>Grove St at Masonic Ave</td>\n",
       "      <td>37.774836</td>\n",
       "      <td>-122.446546</td>\n",
       "      <td>70</td>\n",
       "      <td>Central Ave at Fell St</td>\n",
       "      <td>37.773311</td>\n",
       "      <td>-122.444293</td>\n",
       "      <td>6638</td>\n",
       "      <td>Subscriber</td>\n",
       "      <td>1989</td>\n",
       "      <td>Other</td>\n",
       "      <td>No</td>\n",
       "      <td>2019-02-28</td>\n",
       "      <td>2019-03-01</td>\n",
       "      <td>30</td>\n",
       "    </tr>\n",
       "    <tr>\n",
       "      <th>3</th>\n",
       "      <td>1585</td>\n",
       "      <td>23:54:18.5490</td>\n",
       "      <td>00:20:44.0740</td>\n",
       "      <td>7</td>\n",
       "      <td>Frank H Ogawa Plaza</td>\n",
       "      <td>37.804562</td>\n",
       "      <td>-122.271738</td>\n",
       "      <td>222</td>\n",
       "      <td>10th Ave at E 15th St</td>\n",
       "      <td>37.792714</td>\n",
       "      <td>-122.248780</td>\n",
       "      <td>4898</td>\n",
       "      <td>Subscriber</td>\n",
       "      <td>1974</td>\n",
       "      <td>Male</td>\n",
       "      <td>Yes</td>\n",
       "      <td>2019-02-28</td>\n",
       "      <td>2019-03-01</td>\n",
       "      <td>45</td>\n",
       "    </tr>\n",
       "    <tr>\n",
       "      <th>4</th>\n",
       "      <td>1793</td>\n",
       "      <td>23:49:58.6320</td>\n",
       "      <td>00:19:51.7600</td>\n",
       "      <td>93</td>\n",
       "      <td>4th St at Mission Bay Blvd S</td>\n",
       "      <td>37.770407</td>\n",
       "      <td>-122.391198</td>\n",
       "      <td>323</td>\n",
       "      <td>Broadway at Kearny</td>\n",
       "      <td>37.798014</td>\n",
       "      <td>-122.405950</td>\n",
       "      <td>5200</td>\n",
       "      <td>Subscriber</td>\n",
       "      <td>1959</td>\n",
       "      <td>Male</td>\n",
       "      <td>No</td>\n",
       "      <td>2019-02-28</td>\n",
       "      <td>2019-03-01</td>\n",
       "      <td>60</td>\n",
       "    </tr>\n",
       "  </tbody>\n",
       "</table>\n",
       "</div>"
      ],
      "text/plain": [
       "   duration_sec     start_time       end_time start_station_id  \\\n",
       "0         52185  17:32:10.1450  08:01:55.9750               21   \n",
       "1         61854  12:13:13.2180  05:24:08.1460               86   \n",
       "2         36490  17:54:26.0100  04:02:36.8420              375   \n",
       "3          1585  23:54:18.5490  00:20:44.0740                7   \n",
       "4          1793  23:49:58.6320  00:19:51.7600               93   \n",
       "\n",
       "                                 start_station_name  start_station_latitude  \\\n",
       "0  Montgomery St BART Station (Market St at 2nd St)               37.789625   \n",
       "1                           Market St at Dolores St               37.769305   \n",
       "2                           Grove St at Masonic Ave               37.774836   \n",
       "3                               Frank H Ogawa Plaza               37.804562   \n",
       "4                      4th St at Mission Bay Blvd S               37.770407   \n",
       "\n",
       "   start_station_longitude end_station_id  \\\n",
       "0              -122.400811             13   \n",
       "1              -122.426826              3   \n",
       "2              -122.446546             70   \n",
       "3              -122.271738            222   \n",
       "4              -122.391198            323   \n",
       "\n",
       "                               end_station_name  end_station_latitude  \\\n",
       "0                Commercial St at Montgomery St             37.794231   \n",
       "1  Powell St BART Station (Market St at 4th St)             37.786375   \n",
       "2                        Central Ave at Fell St             37.773311   \n",
       "3                         10th Ave at E 15th St             37.792714   \n",
       "4                            Broadway at Kearny             37.798014   \n",
       "\n",
       "   end_station_longitude bike_id   user_type  member_birth_year member_gender  \\\n",
       "0            -122.402923    4902    Customer               1984          Male   \n",
       "1            -122.404904    5905    Customer               1972          Male   \n",
       "2            -122.444293    6638  Subscriber               1989         Other   \n",
       "3            -122.248780    4898  Subscriber               1974          Male   \n",
       "4            -122.405950    5200  Subscriber               1959          Male   \n",
       "\n",
       "  bike_share_for_all_trip start_date   end_date  member_age  \n",
       "0                      No 2019-02-28 2019-03-01          35  \n",
       "1                      No 2019-02-28 2019-03-01          47  \n",
       "2                      No 2019-02-28 2019-03-01          30  \n",
       "3                     Yes 2019-02-28 2019-03-01          45  \n",
       "4                      No 2019-02-28 2019-03-01          60  "
      ]
     },
     "execution_count": 10,
     "metadata": {},
     "output_type": "execute_result"
    }
   ],
   "source": [
    "bike['start_date'] = pd.to_datetime(bike['start_date'])\n",
    "bike['end_date'] = pd.to_datetime(bike['end_date'])\n",
    "\n",
    "bike.head()"
   ]
  },
  {
   "cell_type": "code",
   "execution_count": 11,
   "id": "3e581ff6",
   "metadata": {},
   "outputs": [
    {
     "data": {
      "text/html": [
       "<div>\n",
       "<style scoped>\n",
       "    .dataframe tbody tr th:only-of-type {\n",
       "        vertical-align: middle;\n",
       "    }\n",
       "\n",
       "    .dataframe tbody tr th {\n",
       "        vertical-align: top;\n",
       "    }\n",
       "\n",
       "    .dataframe thead th {\n",
       "        text-align: right;\n",
       "    }\n",
       "</style>\n",
       "<table border=\"1\" class=\"dataframe\">\n",
       "  <thead>\n",
       "    <tr style=\"text-align: right;\">\n",
       "      <th></th>\n",
       "      <th>duration_sec</th>\n",
       "      <th>start_time</th>\n",
       "      <th>end_time</th>\n",
       "      <th>start_station_id</th>\n",
       "      <th>start_station_name</th>\n",
       "      <th>start_station_latitude</th>\n",
       "      <th>start_station_longitude</th>\n",
       "      <th>end_station_id</th>\n",
       "      <th>end_station_name</th>\n",
       "      <th>end_station_latitude</th>\n",
       "      <th>end_station_longitude</th>\n",
       "      <th>bike_id</th>\n",
       "      <th>user_type</th>\n",
       "      <th>member_birth_year</th>\n",
       "      <th>member_gender</th>\n",
       "      <th>bike_share_for_all_trip</th>\n",
       "      <th>start_date</th>\n",
       "      <th>end_date</th>\n",
       "      <th>member_age</th>\n",
       "    </tr>\n",
       "  </thead>\n",
       "  <tbody>\n",
       "    <tr>\n",
       "      <th>0</th>\n",
       "      <td>52185</td>\n",
       "      <td>17:32:10</td>\n",
       "      <td>08:01:55</td>\n",
       "      <td>21</td>\n",
       "      <td>Montgomery St BART Station (Market St at 2nd St)</td>\n",
       "      <td>37.789625</td>\n",
       "      <td>-122.400811</td>\n",
       "      <td>13</td>\n",
       "      <td>Commercial St at Montgomery St</td>\n",
       "      <td>37.794231</td>\n",
       "      <td>-122.402923</td>\n",
       "      <td>4902</td>\n",
       "      <td>Customer</td>\n",
       "      <td>1984</td>\n",
       "      <td>Male</td>\n",
       "      <td>No</td>\n",
       "      <td>2019-02-28</td>\n",
       "      <td>2019-03-01</td>\n",
       "      <td>35</td>\n",
       "    </tr>\n",
       "    <tr>\n",
       "      <th>1</th>\n",
       "      <td>61854</td>\n",
       "      <td>12:13:13</td>\n",
       "      <td>05:24:08</td>\n",
       "      <td>86</td>\n",
       "      <td>Market St at Dolores St</td>\n",
       "      <td>37.769305</td>\n",
       "      <td>-122.426826</td>\n",
       "      <td>3</td>\n",
       "      <td>Powell St BART Station (Market St at 4th St)</td>\n",
       "      <td>37.786375</td>\n",
       "      <td>-122.404904</td>\n",
       "      <td>5905</td>\n",
       "      <td>Customer</td>\n",
       "      <td>1972</td>\n",
       "      <td>Male</td>\n",
       "      <td>No</td>\n",
       "      <td>2019-02-28</td>\n",
       "      <td>2019-03-01</td>\n",
       "      <td>47</td>\n",
       "    </tr>\n",
       "    <tr>\n",
       "      <th>2</th>\n",
       "      <td>36490</td>\n",
       "      <td>17:54:26</td>\n",
       "      <td>04:02:36</td>\n",
       "      <td>375</td>\n",
       "      <td>Grove St at Masonic Ave</td>\n",
       "      <td>37.774836</td>\n",
       "      <td>-122.446546</td>\n",
       "      <td>70</td>\n",
       "      <td>Central Ave at Fell St</td>\n",
       "      <td>37.773311</td>\n",
       "      <td>-122.444293</td>\n",
       "      <td>6638</td>\n",
       "      <td>Subscriber</td>\n",
       "      <td>1989</td>\n",
       "      <td>Other</td>\n",
       "      <td>No</td>\n",
       "      <td>2019-02-28</td>\n",
       "      <td>2019-03-01</td>\n",
       "      <td>30</td>\n",
       "    </tr>\n",
       "    <tr>\n",
       "      <th>3</th>\n",
       "      <td>1585</td>\n",
       "      <td>23:54:18</td>\n",
       "      <td>00:20:44</td>\n",
       "      <td>7</td>\n",
       "      <td>Frank H Ogawa Plaza</td>\n",
       "      <td>37.804562</td>\n",
       "      <td>-122.271738</td>\n",
       "      <td>222</td>\n",
       "      <td>10th Ave at E 15th St</td>\n",
       "      <td>37.792714</td>\n",
       "      <td>-122.248780</td>\n",
       "      <td>4898</td>\n",
       "      <td>Subscriber</td>\n",
       "      <td>1974</td>\n",
       "      <td>Male</td>\n",
       "      <td>Yes</td>\n",
       "      <td>2019-02-28</td>\n",
       "      <td>2019-03-01</td>\n",
       "      <td>45</td>\n",
       "    </tr>\n",
       "    <tr>\n",
       "      <th>4</th>\n",
       "      <td>1793</td>\n",
       "      <td>23:49:58</td>\n",
       "      <td>00:19:51</td>\n",
       "      <td>93</td>\n",
       "      <td>4th St at Mission Bay Blvd S</td>\n",
       "      <td>37.770407</td>\n",
       "      <td>-122.391198</td>\n",
       "      <td>323</td>\n",
       "      <td>Broadway at Kearny</td>\n",
       "      <td>37.798014</td>\n",
       "      <td>-122.405950</td>\n",
       "      <td>5200</td>\n",
       "      <td>Subscriber</td>\n",
       "      <td>1959</td>\n",
       "      <td>Male</td>\n",
       "      <td>No</td>\n",
       "      <td>2019-02-28</td>\n",
       "      <td>2019-03-01</td>\n",
       "      <td>60</td>\n",
       "    </tr>\n",
       "  </tbody>\n",
       "</table>\n",
       "</div>"
      ],
      "text/plain": [
       "   duration_sec start_time  end_time start_station_id  \\\n",
       "0         52185   17:32:10  08:01:55               21   \n",
       "1         61854   12:13:13  05:24:08               86   \n",
       "2         36490   17:54:26  04:02:36              375   \n",
       "3          1585   23:54:18  00:20:44                7   \n",
       "4          1793   23:49:58  00:19:51               93   \n",
       "\n",
       "                                 start_station_name  start_station_latitude  \\\n",
       "0  Montgomery St BART Station (Market St at 2nd St)               37.789625   \n",
       "1                           Market St at Dolores St               37.769305   \n",
       "2                           Grove St at Masonic Ave               37.774836   \n",
       "3                               Frank H Ogawa Plaza               37.804562   \n",
       "4                      4th St at Mission Bay Blvd S               37.770407   \n",
       "\n",
       "   start_station_longitude end_station_id  \\\n",
       "0              -122.400811             13   \n",
       "1              -122.426826              3   \n",
       "2              -122.446546             70   \n",
       "3              -122.271738            222   \n",
       "4              -122.391198            323   \n",
       "\n",
       "                               end_station_name  end_station_latitude  \\\n",
       "0                Commercial St at Montgomery St             37.794231   \n",
       "1  Powell St BART Station (Market St at 4th St)             37.786375   \n",
       "2                        Central Ave at Fell St             37.773311   \n",
       "3                         10th Ave at E 15th St             37.792714   \n",
       "4                            Broadway at Kearny             37.798014   \n",
       "\n",
       "   end_station_longitude bike_id   user_type  member_birth_year member_gender  \\\n",
       "0            -122.402923    4902    Customer               1984          Male   \n",
       "1            -122.404904    5905    Customer               1972          Male   \n",
       "2            -122.444293    6638  Subscriber               1989         Other   \n",
       "3            -122.248780    4898  Subscriber               1974          Male   \n",
       "4            -122.405950    5200  Subscriber               1959          Male   \n",
       "\n",
       "  bike_share_for_all_trip start_date   end_date  member_age  \n",
       "0                      No 2019-02-28 2019-03-01          35  \n",
       "1                      No 2019-02-28 2019-03-01          47  \n",
       "2                      No 2019-02-28 2019-03-01          30  \n",
       "3                     Yes 2019-02-28 2019-03-01          45  \n",
       "4                      No 2019-02-28 2019-03-01          60  "
      ]
     },
     "execution_count": 11,
     "metadata": {},
     "output_type": "execute_result"
    }
   ],
   "source": [
    "bike['start_time'] = bike['start_time'].str.split('.').str[0] # eliminate the decimal value of the seconds\n",
    "bike['start_time'] = pd.to_datetime(bike['start_time'],format= '%H:%M:%S' ).dt.time\n",
    "\n",
    "bike['end_time'] = bike['end_time'].str.split('.').str[0] # eliminate the decimal value of the seconds\n",
    "bike['end_time'] = pd.to_datetime(bike['end_time'],format= '%H:%M:%S' ).dt.time\n",
    "\n",
    "bike.head()"
   ]
  },
  {
   "cell_type": "markdown",
   "id": "2b642a17",
   "metadata": {},
   "source": [
    "After these changes, the dataset is in a better format for our analysis. First, we will see the structure of our dataframe:"
   ]
  },
  {
   "cell_type": "code",
   "execution_count": 12,
   "id": "d1683d6c",
   "metadata": {},
   "outputs": [
    {
     "data": {
      "text/html": [
       "<div>\n",
       "<style scoped>\n",
       "    .dataframe tbody tr th:only-of-type {\n",
       "        vertical-align: middle;\n",
       "    }\n",
       "\n",
       "    .dataframe tbody tr th {\n",
       "        vertical-align: top;\n",
       "    }\n",
       "\n",
       "    .dataframe thead th {\n",
       "        text-align: right;\n",
       "    }\n",
       "</style>\n",
       "<table border=\"1\" class=\"dataframe\">\n",
       "  <thead>\n",
       "    <tr style=\"text-align: right;\">\n",
       "      <th></th>\n",
       "      <th>duration_sec</th>\n",
       "      <th>start_time</th>\n",
       "      <th>end_time</th>\n",
       "      <th>start_station_id</th>\n",
       "      <th>start_station_name</th>\n",
       "      <th>start_station_latitude</th>\n",
       "      <th>start_station_longitude</th>\n",
       "      <th>end_station_id</th>\n",
       "      <th>end_station_name</th>\n",
       "      <th>end_station_latitude</th>\n",
       "      <th>end_station_longitude</th>\n",
       "      <th>bike_id</th>\n",
       "      <th>user_type</th>\n",
       "      <th>member_birth_year</th>\n",
       "      <th>member_gender</th>\n",
       "      <th>bike_share_for_all_trip</th>\n",
       "      <th>start_date</th>\n",
       "      <th>end_date</th>\n",
       "      <th>member_age</th>\n",
       "    </tr>\n",
       "  </thead>\n",
       "  <tbody>\n",
       "    <tr>\n",
       "      <th>0</th>\n",
       "      <td>52185</td>\n",
       "      <td>17:32:10</td>\n",
       "      <td>08:01:55</td>\n",
       "      <td>21</td>\n",
       "      <td>Montgomery St BART Station (Market St at 2nd St)</td>\n",
       "      <td>37.789625</td>\n",
       "      <td>-122.400811</td>\n",
       "      <td>13</td>\n",
       "      <td>Commercial St at Montgomery St</td>\n",
       "      <td>37.794231</td>\n",
       "      <td>-122.402923</td>\n",
       "      <td>4902</td>\n",
       "      <td>Customer</td>\n",
       "      <td>1984</td>\n",
       "      <td>Male</td>\n",
       "      <td>No</td>\n",
       "      <td>2019-02-28</td>\n",
       "      <td>2019-03-01</td>\n",
       "      <td>35</td>\n",
       "    </tr>\n",
       "    <tr>\n",
       "      <th>1</th>\n",
       "      <td>61854</td>\n",
       "      <td>12:13:13</td>\n",
       "      <td>05:24:08</td>\n",
       "      <td>86</td>\n",
       "      <td>Market St at Dolores St</td>\n",
       "      <td>37.769305</td>\n",
       "      <td>-122.426826</td>\n",
       "      <td>3</td>\n",
       "      <td>Powell St BART Station (Market St at 4th St)</td>\n",
       "      <td>37.786375</td>\n",
       "      <td>-122.404904</td>\n",
       "      <td>5905</td>\n",
       "      <td>Customer</td>\n",
       "      <td>1972</td>\n",
       "      <td>Male</td>\n",
       "      <td>No</td>\n",
       "      <td>2019-02-28</td>\n",
       "      <td>2019-03-01</td>\n",
       "      <td>47</td>\n",
       "    </tr>\n",
       "    <tr>\n",
       "      <th>2</th>\n",
       "      <td>36490</td>\n",
       "      <td>17:54:26</td>\n",
       "      <td>04:02:36</td>\n",
       "      <td>375</td>\n",
       "      <td>Grove St at Masonic Ave</td>\n",
       "      <td>37.774836</td>\n",
       "      <td>-122.446546</td>\n",
       "      <td>70</td>\n",
       "      <td>Central Ave at Fell St</td>\n",
       "      <td>37.773311</td>\n",
       "      <td>-122.444293</td>\n",
       "      <td>6638</td>\n",
       "      <td>Subscriber</td>\n",
       "      <td>1989</td>\n",
       "      <td>Other</td>\n",
       "      <td>No</td>\n",
       "      <td>2019-02-28</td>\n",
       "      <td>2019-03-01</td>\n",
       "      <td>30</td>\n",
       "    </tr>\n",
       "    <tr>\n",
       "      <th>3</th>\n",
       "      <td>1585</td>\n",
       "      <td>23:54:18</td>\n",
       "      <td>00:20:44</td>\n",
       "      <td>7</td>\n",
       "      <td>Frank H Ogawa Plaza</td>\n",
       "      <td>37.804562</td>\n",
       "      <td>-122.271738</td>\n",
       "      <td>222</td>\n",
       "      <td>10th Ave at E 15th St</td>\n",
       "      <td>37.792714</td>\n",
       "      <td>-122.248780</td>\n",
       "      <td>4898</td>\n",
       "      <td>Subscriber</td>\n",
       "      <td>1974</td>\n",
       "      <td>Male</td>\n",
       "      <td>Yes</td>\n",
       "      <td>2019-02-28</td>\n",
       "      <td>2019-03-01</td>\n",
       "      <td>45</td>\n",
       "    </tr>\n",
       "    <tr>\n",
       "      <th>4</th>\n",
       "      <td>1793</td>\n",
       "      <td>23:49:58</td>\n",
       "      <td>00:19:51</td>\n",
       "      <td>93</td>\n",
       "      <td>4th St at Mission Bay Blvd S</td>\n",
       "      <td>37.770407</td>\n",
       "      <td>-122.391198</td>\n",
       "      <td>323</td>\n",
       "      <td>Broadway at Kearny</td>\n",
       "      <td>37.798014</td>\n",
       "      <td>-122.405950</td>\n",
       "      <td>5200</td>\n",
       "      <td>Subscriber</td>\n",
       "      <td>1959</td>\n",
       "      <td>Male</td>\n",
       "      <td>No</td>\n",
       "      <td>2019-02-28</td>\n",
       "      <td>2019-03-01</td>\n",
       "      <td>60</td>\n",
       "    </tr>\n",
       "  </tbody>\n",
       "</table>\n",
       "</div>"
      ],
      "text/plain": [
       "   duration_sec start_time  end_time start_station_id  \\\n",
       "0         52185   17:32:10  08:01:55               21   \n",
       "1         61854   12:13:13  05:24:08               86   \n",
       "2         36490   17:54:26  04:02:36              375   \n",
       "3          1585   23:54:18  00:20:44                7   \n",
       "4          1793   23:49:58  00:19:51               93   \n",
       "\n",
       "                                 start_station_name  start_station_latitude  \\\n",
       "0  Montgomery St BART Station (Market St at 2nd St)               37.789625   \n",
       "1                           Market St at Dolores St               37.769305   \n",
       "2                           Grove St at Masonic Ave               37.774836   \n",
       "3                               Frank H Ogawa Plaza               37.804562   \n",
       "4                      4th St at Mission Bay Blvd S               37.770407   \n",
       "\n",
       "   start_station_longitude end_station_id  \\\n",
       "0              -122.400811             13   \n",
       "1              -122.426826              3   \n",
       "2              -122.446546             70   \n",
       "3              -122.271738            222   \n",
       "4              -122.391198            323   \n",
       "\n",
       "                               end_station_name  end_station_latitude  \\\n",
       "0                Commercial St at Montgomery St             37.794231   \n",
       "1  Powell St BART Station (Market St at 4th St)             37.786375   \n",
       "2                        Central Ave at Fell St             37.773311   \n",
       "3                         10th Ave at E 15th St             37.792714   \n",
       "4                            Broadway at Kearny             37.798014   \n",
       "\n",
       "   end_station_longitude bike_id   user_type  member_birth_year member_gender  \\\n",
       "0            -122.402923    4902    Customer               1984          Male   \n",
       "1            -122.404904    5905    Customer               1972          Male   \n",
       "2            -122.444293    6638  Subscriber               1989         Other   \n",
       "3            -122.248780    4898  Subscriber               1974          Male   \n",
       "4            -122.405950    5200  Subscriber               1959          Male   \n",
       "\n",
       "  bike_share_for_all_trip start_date   end_date  member_age  \n",
       "0                      No 2019-02-28 2019-03-01          35  \n",
       "1                      No 2019-02-28 2019-03-01          47  \n",
       "2                      No 2019-02-28 2019-03-01          30  \n",
       "3                     Yes 2019-02-28 2019-03-01          45  \n",
       "4                      No 2019-02-28 2019-03-01          60  "
      ]
     },
     "execution_count": 12,
     "metadata": {},
     "output_type": "execute_result"
    }
   ],
   "source": [
    "bike.head()"
   ]
  },
  {
   "cell_type": "code",
   "execution_count": 13,
   "id": "fd72939c",
   "metadata": {},
   "outputs": [
    {
     "name": "stdout",
     "output_type": "stream",
     "text": [
      "<class 'pandas.core.frame.DataFrame'>\n",
      "RangeIndex: 174952 entries, 0 to 174951\n",
      "Data columns (total 19 columns):\n",
      " #   Column                   Non-Null Count   Dtype         \n",
      "---  ------                   --------------   -----         \n",
      " 0   duration_sec             174952 non-null  int64         \n",
      " 1   start_time               174952 non-null  object        \n",
      " 2   end_time                 174952 non-null  object        \n",
      " 3   start_station_id         174952 non-null  object        \n",
      " 4   start_station_name       174952 non-null  object        \n",
      " 5   start_station_latitude   174952 non-null  float64       \n",
      " 6   start_station_longitude  174952 non-null  float64       \n",
      " 7   end_station_id           174952 non-null  object        \n",
      " 8   end_station_name         174952 non-null  object        \n",
      " 9   end_station_latitude     174952 non-null  float64       \n",
      " 10  end_station_longitude    174952 non-null  float64       \n",
      " 11  bike_id                  174952 non-null  object        \n",
      " 12  user_type                174952 non-null  object        \n",
      " 13  member_birth_year        174952 non-null  int32         \n",
      " 14  member_gender            174952 non-null  object        \n",
      " 15  bike_share_for_all_trip  174952 non-null  object        \n",
      " 16  start_date               174952 non-null  datetime64[ns]\n",
      " 17  end_date                 174952 non-null  datetime64[ns]\n",
      " 18  member_age               174952 non-null  int32         \n",
      "dtypes: datetime64[ns](2), float64(4), int32(2), int64(1), object(10)\n",
      "memory usage: 24.0+ MB\n"
     ]
    }
   ],
   "source": [
    "bike.info()"
   ]
  },
  {
   "cell_type": "code",
   "execution_count": 14,
   "id": "5ca01290",
   "metadata": {},
   "outputs": [
    {
     "data": {
      "text/html": [
       "<div>\n",
       "<style scoped>\n",
       "    .dataframe tbody tr th:only-of-type {\n",
       "        vertical-align: middle;\n",
       "    }\n",
       "\n",
       "    .dataframe tbody tr th {\n",
       "        vertical-align: top;\n",
       "    }\n",
       "\n",
       "    .dataframe thead th {\n",
       "        text-align: right;\n",
       "    }\n",
       "</style>\n",
       "<table border=\"1\" class=\"dataframe\">\n",
       "  <thead>\n",
       "    <tr style=\"text-align: right;\">\n",
       "      <th></th>\n",
       "      <th>duration_sec</th>\n",
       "      <th>start_station_latitude</th>\n",
       "      <th>start_station_longitude</th>\n",
       "      <th>end_station_latitude</th>\n",
       "      <th>end_station_longitude</th>\n",
       "      <th>member_birth_year</th>\n",
       "      <th>member_age</th>\n",
       "    </tr>\n",
       "  </thead>\n",
       "  <tbody>\n",
       "    <tr>\n",
       "      <th>count</th>\n",
       "      <td>174952.000000</td>\n",
       "      <td>174952.000000</td>\n",
       "      <td>174952.000000</td>\n",
       "      <td>174952.000000</td>\n",
       "      <td>174952.000000</td>\n",
       "      <td>174952.000000</td>\n",
       "      <td>174952.000000</td>\n",
       "    </tr>\n",
       "    <tr>\n",
       "      <th>mean</th>\n",
       "      <td>704.002744</td>\n",
       "      <td>37.771220</td>\n",
       "      <td>-122.351760</td>\n",
       "      <td>37.771414</td>\n",
       "      <td>-122.351335</td>\n",
       "      <td>1984.803135</td>\n",
       "      <td>34.196865</td>\n",
       "    </tr>\n",
       "    <tr>\n",
       "      <th>std</th>\n",
       "      <td>1642.204905</td>\n",
       "      <td>0.100391</td>\n",
       "      <td>0.117732</td>\n",
       "      <td>0.100295</td>\n",
       "      <td>0.117294</td>\n",
       "      <td>10.118731</td>\n",
       "      <td>10.118731</td>\n",
       "    </tr>\n",
       "    <tr>\n",
       "      <th>min</th>\n",
       "      <td>61.000000</td>\n",
       "      <td>37.317298</td>\n",
       "      <td>-122.453704</td>\n",
       "      <td>37.317298</td>\n",
       "      <td>-122.453704</td>\n",
       "      <td>1878.000000</td>\n",
       "      <td>18.000000</td>\n",
       "    </tr>\n",
       "    <tr>\n",
       "      <th>25%</th>\n",
       "      <td>323.000000</td>\n",
       "      <td>37.770407</td>\n",
       "      <td>-122.411901</td>\n",
       "      <td>37.770407</td>\n",
       "      <td>-122.411647</td>\n",
       "      <td>1980.000000</td>\n",
       "      <td>27.000000</td>\n",
       "    </tr>\n",
       "    <tr>\n",
       "      <th>50%</th>\n",
       "      <td>510.000000</td>\n",
       "      <td>37.780760</td>\n",
       "      <td>-122.398279</td>\n",
       "      <td>37.781010</td>\n",
       "      <td>-122.397437</td>\n",
       "      <td>1987.000000</td>\n",
       "      <td>32.000000</td>\n",
       "    </tr>\n",
       "    <tr>\n",
       "      <th>75%</th>\n",
       "      <td>789.000000</td>\n",
       "      <td>37.797320</td>\n",
       "      <td>-122.283093</td>\n",
       "      <td>37.797673</td>\n",
       "      <td>-122.286533</td>\n",
       "      <td>1992.000000</td>\n",
       "      <td>39.000000</td>\n",
       "    </tr>\n",
       "    <tr>\n",
       "      <th>max</th>\n",
       "      <td>84548.000000</td>\n",
       "      <td>37.880222</td>\n",
       "      <td>-121.874119</td>\n",
       "      <td>37.880222</td>\n",
       "      <td>-121.874119</td>\n",
       "      <td>2001.000000</td>\n",
       "      <td>141.000000</td>\n",
       "    </tr>\n",
       "  </tbody>\n",
       "</table>\n",
       "</div>"
      ],
      "text/plain": [
       "        duration_sec  start_station_latitude  start_station_longitude  \\\n",
       "count  174952.000000           174952.000000            174952.000000   \n",
       "mean      704.002744               37.771220              -122.351760   \n",
       "std      1642.204905                0.100391                 0.117732   \n",
       "min        61.000000               37.317298              -122.453704   \n",
       "25%       323.000000               37.770407              -122.411901   \n",
       "50%       510.000000               37.780760              -122.398279   \n",
       "75%       789.000000               37.797320              -122.283093   \n",
       "max     84548.000000               37.880222              -121.874119   \n",
       "\n",
       "       end_station_latitude  end_station_longitude  member_birth_year  \\\n",
       "count         174952.000000          174952.000000      174952.000000   \n",
       "mean              37.771414            -122.351335        1984.803135   \n",
       "std                0.100295               0.117294          10.118731   \n",
       "min               37.317298            -122.453704        1878.000000   \n",
       "25%               37.770407            -122.411647        1980.000000   \n",
       "50%               37.781010            -122.397437        1987.000000   \n",
       "75%               37.797673            -122.286533        1992.000000   \n",
       "max               37.880222            -121.874119        2001.000000   \n",
       "\n",
       "          member_age  \n",
       "count  174952.000000  \n",
       "mean       34.196865  \n",
       "std        10.118731  \n",
       "min        18.000000  \n",
       "25%        27.000000  \n",
       "50%        32.000000  \n",
       "75%        39.000000  \n",
       "max       141.000000  "
      ]
     },
     "execution_count": 14,
     "metadata": {},
     "output_type": "execute_result"
    }
   ],
   "source": [
    "bike.describe()"
   ]
  },
  {
   "cell_type": "markdown",
   "id": "e979ab83",
   "metadata": {},
   "source": [
    "For the exploration part, the main features of interest in the dataset are:\n",
    "\n",
    "* duration of trip\n",
    "* information about the users (gender, age, type)\n",
    "* location of the station\n",
    "\n",
    "Throughout the analysis, we will see how these features interact with each other, if there are any insteresting relations between them and if other features also are related to them."
   ]
  },
  {
   "cell_type": "markdown",
   "id": "c0c3955e",
   "metadata": {},
   "source": [
    "The function below will be used to reduce excessive coding:"
   ]
  },
  {
   "cell_type": "code",
   "execution_count": 169,
   "id": "e9ef9182",
   "metadata": {},
   "outputs": [],
   "source": [
    "def boxplot(x, y):\n",
    "    sns.boxplot(data = bike, x = x, y = y, color=base_color)"
   ]
  },
  {
   "cell_type": "markdown",
   "id": "00a6711e",
   "metadata": {},
   "source": [
    "## Univariate Exploration"
   ]
  },
  {
   "cell_type": "markdown",
   "id": "a1eaaf25",
   "metadata": {},
   "source": [
    "First, we will explore the distribution of our interest variables individually:"
   ]
  },
  {
   "cell_type": "markdown",
   "id": "f8ad565c",
   "metadata": {},
   "source": [
    "#### What is the distribution of duration of trip?"
   ]
  },
  {
   "cell_type": "code",
   "execution_count": 70,
   "id": "e7e9a102",
   "metadata": {},
   "outputs": [
    {
     "data": {
      "image/png": "[encoded data removed]",
      "text/plain": [
       "<Figure size 432x288 with 1 Axes>"
      ]
     },
     "metadata": {
      "needs_background": "light"
     },
     "output_type": "display_data"
    }
   ],
   "source": [
    "def sqrt_trans(x, inverse = False): # get the square root of each value\n",
    "    if not inverse:\n",
    "        return np.sqrt(x)\n",
    "    else:\n",
    "        return x ** 2\n",
    "\n",
    "bin_edges = np.arange(0, 50+1, 1)    \n",
    "    \n",
    "plt.hist(bike['duration_sec'].apply(sqrt_trans),bins=bin_edges)\n",
    "\n",
    "tick_locs = np.arange(0, 50+5, 5)\n",
    "\n",
    "plt.xticks(tick_locs, sqrt_trans(tick_locs, inverse = True).astype(int))\n",
    "plt.xlim(7,50);"
   ]
  },
  {
   "cell_type": "markdown",
   "id": "bfbae87e",
   "metadata": {},
   "source": [
    "The duration of the ride were more commom between 200 and 900. As the duaration time had very high values, the datas ploted are equal to the square root of them originally, but the x-scale represented the original values. With that said, we can see that the majority of trips were between 200 and 900 seconds, with the peak between 400 and 600 seconds. So, the conclusion we get is the most commom trips are low in time. "
   ]
  },
  {
   "cell_type": "markdown",
   "id": "0e7df21e",
   "metadata": {},
   "source": [
    "#### What is the distribution of user gender?"
   ]
  },
  {
   "cell_type": "code",
   "execution_count": 16,
   "id": "3092df4d",
   "metadata": {},
   "outputs": [
    {
     "data": {
      "image/png": "[encoded data removed]",
      "text/plain": [
       "<Figure size 432x288 with 1 Axes>"
      ]
     },
     "metadata": {
      "needs_background": "light"
     },
     "output_type": "display_data"
    }
   ],
   "source": [
    "base_color = sns.color_palette()[0] \n",
    "\n",
    "gender_freq = bike['member_gender'].value_counts().index\n",
    "\n",
    "sns.countplot(data=bike, x='member_gender', color=base_color, order=gender_freq);"
   ]
  },
  {
   "cell_type": "markdown",
   "id": "4be67477",
   "metadata": {},
   "source": [
    "The users are predominantly man."
   ]
  },
  {
   "cell_type": "markdown",
   "id": "02390ef1",
   "metadata": {},
   "source": [
    "#### What is the distribution of user age?"
   ]
  },
  {
   "cell_type": "code",
   "execution_count": 17,
   "id": "161345a4",
   "metadata": {},
   "outputs": [
    {
     "data": {
      "image/png": "[encoded data removed]",
      "text/plain": [
       "<Figure size 432x288 with 1 Axes>"
      ]
     },
     "metadata": {
      "needs_background": "light"
     },
     "output_type": "display_data"
    }
   ],
   "source": [
    "plt.hist(data=bike, x='member_age', bins=20)\n",
    "plt.xlim((18, 80));"
   ]
  },
  {
   "cell_type": "markdown",
   "id": "b71ec8c2",
   "metadata": {},
   "source": [
    "The users are mostly between 25 and 35 years old."
   ]
  },
  {
   "cell_type": "markdown",
   "id": "c52ff68a",
   "metadata": {},
   "source": [
    "#### What is the distribution of user type?"
   ]
  },
  {
   "cell_type": "code",
   "execution_count": 18,
   "id": "85ab2304",
   "metadata": {},
   "outputs": [
    {
     "data": {
      "image/png": "[encoded data removed]",
      "text/plain": [
       "<Figure size 432x288 with 1 Axes>"
      ]
     },
     "metadata": {
      "needs_background": "light"
     },
     "output_type": "display_data"
    }
   ],
   "source": [
    "type_freq = bike['user_type'].value_counts().index\n",
    "\n",
    "sns.countplot(data=bike, x='user_type', color=base_color, order=type_freq);"
   ]
  },
  {
   "cell_type": "markdown",
   "id": "1e026a48",
   "metadata": {},
   "source": [
    "The users are predominantly subscribers."
   ]
  },
  {
   "cell_type": "markdown",
   "id": "4273db7b",
   "metadata": {},
   "source": [
    "#### What is the distribution of station location?"
   ]
  },
  {
   "cell_type": "markdown",
   "id": "4807e1d0",
   "metadata": {},
   "source": [
    "For start station:"
   ]
  },
  {
   "cell_type": "code",
   "execution_count": 20,
   "id": "b65759ed",
   "metadata": {},
   "outputs": [
    {
     "data": {
      "image/png": "[encoded data removed]",
      "text/plain": [
       "<Figure size 432x288 with 1 Axes>"
      ]
     },
     "metadata": {
      "needs_background": "light"
     },
     "output_type": "display_data"
    }
   ],
   "source": [
    "bike_10_start_station = bike.query('start_station_name in (\"Market St at 10th St\", \"San Francisco Caltrain Station 2  (Townsend St at 4th St)\", \"Berry St at 4th St\", \"Montgomery St BART Station (Market St at 2nd St)\", \"Powell St BART Station (Market St at 4th St)\", \"San Francisco Caltrain (Townsend St at 4th St)\", \"San Francisco Ferry Building (Harry Bridges Plaza)\", \"Howard St at Beale St\", \"Steuart St at Market St\", \"Powell St BART Station (Market St at 5th St)\")')\n",
    "bike_10_start_station['start_station_name'].value_counts().plot(kind='barh');"
   ]
  },
  {
   "cell_type": "markdown",
   "id": "5d415852",
   "metadata": {},
   "source": [
    "For end location:"
   ]
  },
  {
   "cell_type": "code",
   "execution_count": 36,
   "id": "0d3de859",
   "metadata": {},
   "outputs": [
    {
     "data": {
      "image/png": "[encoded data removed]",
      "text/plain": [
       "<Figure size 432x288 with 1 Axes>"
      ]
     },
     "metadata": {
      "needs_background": "light"
     },
     "output_type": "display_data"
    }
   ],
   "source": [
    "bike_10_end_station = bike.query('end_station_name in (\"Market St at 10th St\", \"San Francisco Caltrain Station 2  (Townsend St at 4th St)\", \"Berry St at 4th St\", \"Montgomery St BART Station (Market St at 2nd St)\", \"Powell St BART Station (Market St at 4th St)\", \"San Francisco Caltrain (Townsend St at 4th St)\", \"San Francisco Ferry Building (Harry Bridges Plaza)\", \"The Embarcadero at Sansome St\", \"Steuart St at Market St\", \"Powell St BART Station (Market St at 5th St)\")')\n",
    "bike_10_end_station['end_station_name'].value_counts().plot(kind='barh');"
   ]
  },
  {
   "cell_type": "markdown",
   "id": "c798b183",
   "metadata": {},
   "source": [
    "The start and end stations more used are practically the same (not meaning the start is equal to the end for the user). The top 2 are Steuart St at Market St and Powell St BART Station (Market St at 5th St).  "
   ]
  },
  {
   "cell_type": "markdown",
   "id": "16d23db0",
   "metadata": {},
   "source": [
    "## Bivariate Exploration"
   ]
  },
  {
   "cell_type": "markdown",
   "id": "aeef2ef3",
   "metadata": {},
   "source": [
    "In this part, we will explore the relationship between our interest variables"
   ]
  },
  {
   "cell_type": "markdown",
   "id": "e2fa8904",
   "metadata": {},
   "source": [
    "#### What is the relation between duration of trip and user age?"
   ]
  },
  {
   "cell_type": "code",
   "execution_count": 142,
   "id": "6ae3592c",
   "metadata": {},
   "outputs": [
    {
     "data": {
      "image/png": "[encoded data removed]",
      "text/plain": [
       "<Figure size 432x288 with 1 Axes>"
      ]
     },
     "metadata": {
      "needs_background": "light"
     },
     "output_type": "display_data"
    }
   ],
   "source": [
    "plt.scatter(data=bike, x='member_age', y='duration_sec', alpha=1/10)\n",
    "\n",
    "plt.xlim(15,80)\n",
    "plt.ylim(0,6000)\n",
    "plt.xlabel('User age')\n",
    "plt.ylabel('Duration of trip (seconds)');"
   ]
  },
  {
   "cell_type": "markdown",
   "id": "a6f6a58f",
   "metadata": {},
   "source": [
    "For duration of trip, up to about 2500 seconds, we can see that the younger the person, the longer the duration tends to be, as well for customers, which tends to be longer than subscribers."
   ]
  },
  {
   "cell_type": "markdown",
   "id": "53dfdf8d",
   "metadata": {},
   "source": [
    "#### What is the relation between duration of trip and user type?"
   ]
  },
  {
   "cell_type": "code",
   "execution_count": 171,
   "id": "9494e189",
   "metadata": {},
   "outputs": [
    {
     "data": {
      "image/png": "[encoded data removed]",
      "text/plain": [
       "<Figure size 432x288 with 1 Axes>"
      ]
     },
     "metadata": {
      "needs_background": "light"
     },
     "output_type": "display_data"
    }
   ],
   "source": [
    "boxplot('user_type', 'duration_sec')\n",
    "\n",
    "plt.ylim(0,2500)\n",
    "plt.xlabel('User type')\n",
    "plt.ylabel('Duration of trip (seconds)');"
   ]
  },
  {
   "cell_type": "markdown",
   "id": "47d3b958",
   "metadata": {},
   "source": [
    "Subscribers and customers have the same time duration."
   ]
  },
  {
   "cell_type": "markdown",
   "id": "9a92c694",
   "metadata": {},
   "source": [
    "#### What is the relation between duration of trip and user gender?"
   ]
  },
  {
   "cell_type": "code",
   "execution_count": 170,
   "id": "a7259f63",
   "metadata": {},
   "outputs": [
    {
     "data": {
      "image/png": "[encoded data removed]",
      "text/plain": [
       "<Figure size 432x288 with 1 Axes>"
      ]
     },
     "metadata": {
      "needs_background": "light"
     },
     "output_type": "display_data"
    }
   ],
   "source": [
    "boxplot('member_gender', 'duration_sec')\n",
    "\n",
    "plt.ylim(0,1800)\n",
    "plt.xlabel('User gender')\n",
    "plt.ylabel('Duration of trip (seconds)');"
   ]
  },
  {
   "cell_type": "markdown",
   "id": "47a2b326",
   "metadata": {},
   "source": [
    "Men tend to have a bit less duration, compared to the other genders."
   ]
  },
  {
   "cell_type": "markdown",
   "id": "cf06f54e",
   "metadata": {},
   "source": [
    "#### What is the relation between gender and age of user?"
   ]
  },
  {
   "cell_type": "code",
   "execution_count": 173,
   "id": "5f278dc0",
   "metadata": {},
   "outputs": [
    {
     "data": {
      "image/png": "[encoded data removed]",
      "text/plain": [
       "<Figure size 432x288 with 1 Axes>"
      ]
     },
     "metadata": {
      "needs_background": "light"
     },
     "output_type": "display_data"
    }
   ],
   "source": [
    "boxplot('member_gender', 'member_age')\n",
    "\n",
    "plt.ylim(15,60)\n",
    "plt.xlabel('User gender')\n",
    "plt.ylabel('User age');"
   ]
  },
  {
   "cell_type": "markdown",
   "id": "b37cd77a",
   "metadata": {},
   "source": [
    " About the users, for the genders, they have the same age group."
   ]
  },
  {
   "cell_type": "markdown",
   "id": "876f59d5",
   "metadata": {},
   "source": [
    "#### What is the relation between gender and type of user?"
   ]
  },
  {
   "cell_type": "code",
   "execution_count": 24,
   "id": "9254ce5a",
   "metadata": {},
   "outputs": [
    {
     "data": {
      "image/png": "[encoded data removed]",
      "text/plain": [
       "<Figure size 432x288 with 1 Axes>"
      ]
     },
     "metadata": {
      "needs_background": "light"
     },
     "output_type": "display_data"
    }
   ],
   "source": [
    "gender_freq = bike['member_gender'].value_counts().index\n",
    "\n",
    "sns.countplot(data=bike, x='member_gender', hue = 'user_type', order=gender_freq);"
   ]
  },
  {
   "cell_type": "markdown",
   "id": "8589f33a",
   "metadata": {},
   "source": [
    "The proportion of subscribers are much higher than customers for all genders."
   ]
  },
  {
   "cell_type": "markdown",
   "id": "78726574",
   "metadata": {},
   "source": [
    "#### What is the relation between age and type of user?"
   ]
  },
  {
   "cell_type": "code",
   "execution_count": 174,
   "id": "0cca831c",
   "metadata": {},
   "outputs": [
    {
     "data": {
      "image/png": "[encoded data removed]",
      "text/plain": [
       "<Figure size 432x288 with 1 Axes>"
      ]
     },
     "metadata": {
      "needs_background": "light"
     },
     "output_type": "display_data"
    }
   ],
   "source": [
    "boxplot('user_type', y = 'member_age')\n",
    "\n",
    "plt.ylim(15,60)\n",
    "plt.xlabel('User gender')\n",
    "plt.ylabel('Duration of trip (seconds)');"
   ]
  },
  {
   "cell_type": "markdown",
   "id": "fdfdec08",
   "metadata": {},
   "source": [
    "The age group is the same for the user types, mostly between 25 and 40 years old for both types."
   ]
  },
  {
   "cell_type": "markdown",
   "id": "40b326a2",
   "metadata": {},
   "source": [
    "#### What is the relation between station location and user gender?"
   ]
  },
  {
   "cell_type": "code",
   "execution_count": 30,
   "id": "2b9240e7",
   "metadata": {},
   "outputs": [
    {
     "data": {
      "image/png": "[encoded data removed]",
      "text/plain": [
       "<Figure size 432x288 with 1 Axes>"
      ]
     },
     "metadata": {
      "needs_background": "light"
     },
     "output_type": "display_data"
    }
   ],
   "source": [
    "sns.countplot(data=bike_10_start_station, y = 'start_station_name', hue = 'member_gender')\n",
    "\n",
    "plt.xlim(0,3000)\n",
    "plt.xlabel('Count')\n",
    "plt.ylabel('Start station name');"
   ]
  },
  {
   "cell_type": "code",
   "execution_count": 39,
   "id": "9b29e660",
   "metadata": {},
   "outputs": [
    {
     "data": {
      "image/png": "[encoded data removed]",
      "text/plain": [
       "<Figure size 432x288 with 1 Axes>"
      ]
     },
     "metadata": {
      "needs_background": "light"
     },
     "output_type": "display_data"
    }
   ],
   "source": [
    "sns.countplot(data=bike_10_end_station, y = 'end_station_name', hue = 'member_gender')\n",
    "\n",
    "plt.xlim(0,4000)\n",
    "plt.xlabel('Count')\n",
    "plt.ylabel('End station name');"
   ]
  },
  {
   "cell_type": "markdown",
   "id": "496d5801",
   "metadata": {},
   "source": [
    "The start and end locations have no preferred ones for gender"
   ]
  },
  {
   "cell_type": "markdown",
   "id": "02b08f31",
   "metadata": {},
   "source": [
    "#### What is the relation between location and user type?"
   ]
  },
  {
   "cell_type": "code",
   "execution_count": 42,
   "id": "fb311aeb",
   "metadata": {},
   "outputs": [
    {
     "data": {
      "image/png": "[encoded data removed]",
      "text/plain": [
       "<Figure size 432x288 with 1 Axes>"
      ]
     },
     "metadata": {
      "needs_background": "light"
     },
     "output_type": "display_data"
    }
   ],
   "source": [
    "sns.countplot(data=bike_10_start_station, y = 'start_station_name', hue = 'user_type')\n",
    "\n",
    "plt.xlim(0,4000)\n",
    "plt.xlabel('Count')\n",
    "plt.ylabel('Start station name');"
   ]
  },
  {
   "cell_type": "code",
   "execution_count": 44,
   "id": "32316368",
   "metadata": {},
   "outputs": [
    {
     "data": {
      "image/png": "[encoded data removed]",
      "text/plain": [
       "<Figure size 432x288 with 1 Axes>"
      ]
     },
     "metadata": {
      "needs_background": "light"
     },
     "output_type": "display_data"
    }
   ],
   "source": [
    "sns.countplot(data=bike_10_end_station, y = 'end_station_name', hue = 'user_type')\n",
    "\n",
    "plt.xlim(0,5000)\n",
    "plt.xlabel('Count')\n",
    "plt.ylabel('End station name');"
   ]
  },
  {
   "cell_type": "markdown",
   "id": "782cd02c",
   "metadata": {},
   "source": [
    "The start and end locations have no preferred ones for user types."
   ]
  },
  {
   "cell_type": "markdown",
   "id": "45a22a00",
   "metadata": {},
   "source": [
    "## Multivariate Exploration\n",
    "\n",
    "Now, we will explore the relationship between more than two variables."
   ]
  },
  {
   "cell_type": "markdown",
   "id": "1a031443",
   "metadata": {},
   "source": [
    "#### What is the relation between type, age and member of user?"
   ]
  },
  {
   "cell_type": "code",
   "execution_count": 94,
   "id": "058b5cd5",
   "metadata": {},
   "outputs": [
    {
     "data": {
      "image/png": "[encoded data removed]",
      "text/plain": [
       "<Figure size 432x288 with 1 Axes>"
      ]
     },
     "metadata": {
      "needs_background": "light"
     },
     "output_type": "display_data"
    }
   ],
   "source": [
    "sns.boxplot(data=bike, x='member_gender', y='member_age', hue='user_type')\n",
    "\n",
    "plt.ylim(0,65)\n",
    "plt.ylabel('User age');"
   ]
  },
  {
   "cell_type": "markdown",
   "id": "a46e7145",
   "metadata": {},
   "source": [
    "We can see that for the male and female gender, the age group of the user type is a approximately the same. For the other one, the age group of the subscribers is higher."
   ]
  },
  {
   "cell_type": "markdown",
   "id": "11ae143b",
   "metadata": {},
   "source": [
    "#### What is the relation between duration of trip, age and type of user?"
   ]
  },
  {
   "cell_type": "code",
   "execution_count": 166,
   "id": "f404d21d",
   "metadata": {},
   "outputs": [
    {
     "data": {
      "image/png": "[encoded data removed]",
      "text/plain": [
       "<Figure size 864x288 with 2 Axes>"
      ]
     },
     "metadata": {
      "needs_background": "light"
     },
     "output_type": "display_data"
    }
   ],
   "source": [
    "g = sns.FacetGrid(data=bike, col = 'user_type', height = 4, aspect = 1.5)\n",
    "g.map(plt.scatter, 'member_age', 'duration_sec', alpha=0.15)\n",
    "\n",
    "fig=plt.figure\n",
    "plt.suptitle('Relation of user age and duration of trip for the user types')\n",
    "g.tight_layout()\n",
    "plt.xlim(15,80);"
   ]
  },
  {
   "cell_type": "markdown",
   "id": "3911321c",
   "metadata": {},
   "source": [
    "The duration of trip for user type is pratically the same for all ages, except between 70 and 80 years old, which subscribers do more than customers for this age group."
   ]
  },
  {
   "cell_type": "markdown",
   "id": "b2856e82",
   "metadata": {},
   "source": [
    "### Export final version of the dataset \n",
    "\n",
    "This version will be the one used in the slide part."
   ]
  },
  {
   "cell_type": "code",
   "execution_count": 144,
   "id": "925a78a5",
   "metadata": {},
   "outputs": [],
   "source": [
    "bike.to_csv('201902-fordgobike-tripdata_finalversion.csv', index=False)"
   ]
  }
 ],
 "metadata": {
  "kernelspec": {
   "display_name": "Python 3 (ipykernel)",
   "language": "python",
   "name": "python3"
  },
  "language_info": {
   "codemirror_mode": {
    "name": "ipython",
    "version": 3
   },
   "file_extension": ".py",
   "mimetype": "text/x-python",
   "name": "python",
   "nbconvert_exporter": "python",
   "pygments_lexer": "ipython3",
   "version": "3.9.12"
  }
 },
 "nbformat": 4,
 "nbformat_minor": 5
}
