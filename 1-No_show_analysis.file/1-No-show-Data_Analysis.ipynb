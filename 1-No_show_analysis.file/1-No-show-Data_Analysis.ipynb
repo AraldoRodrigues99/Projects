{
 "cells": [
  {
   "cell_type": "markdown",
   "id": "93bdb644",
   "metadata": {},
   "source": [
    "# The no-show appointments data analysis\n",
    "\n",
    "### Table of Contents\n",
    "<ul>\n",
    "<li><a href=\"#intro\">Introduction</a></li>\n",
    "<li><a href=\"#wrangling\">Data Wrangling</a></li>\n",
    "<li><a href=\"#eda\">Exploratory Data Analysis</a></li>\n",
    "<li><a href=\"#conclusions\">Conclusions</a></li>\n",
    "</ul>"
   ]
  },
  {
   "cell_type": "markdown",
   "id": "8805b96c",
   "metadata": {},
   "source": [
    "<a id='intro'></a>\n",
    "## Introduction\n",
    "\n",
    "In this project, we will analyse the no-show medical appointments dataset from Brazil. \n",
    "\n",
    "We will formulate some questions along the way, such as which features are more related to a no-show of a pacient, and exolore the relations between the features. These questions will be proposed and explored later in the exploratory part of the project. \n",
    "\n",
    "Finally, we will answer our questions in the conclusion topic, sharing our findings with the help of Data Analysis."
   ]
  },
  {
   "cell_type": "markdown",
   "id": "2259ecde",
   "metadata": {},
   "source": [
    "We will import the four packages below, to help us make and explore our analysis:"
   ]
  },
  {
   "cell_type": "code",
   "execution_count": 1,
   "id": "6e8570c5",
   "metadata": {},
   "outputs": [],
   "source": [
    "import pandas as pd\n",
    "import numpy as np\n",
    "import matplotlib.pyplot as plt \n",
    "import seaborn as sns"
   ]
  },
  {
   "cell_type": "markdown",
   "id": "37428558",
   "metadata": {},
   "source": [
    "As a requirement for the project, the function used can be shown below:"
   ]
  },
  {
   "cell_type": "code",
   "execution_count": 2,
   "id": "4cdaa875",
   "metadata": {},
   "outputs": [],
   "source": [
    "def five_rows(dataframe):\n",
    "    return dataframe.head()    # the function is used to show the first 5 rows of the dataframe"
   ]
  },
  {
   "cell_type": "markdown",
   "id": "fbe95542",
   "metadata": {},
   "source": [
    "<a id='wrangling'></a>\n",
    "## Data Wrangling"
   ]
  },
  {
   "cell_type": "markdown",
   "id": "d32c7372",
   "metadata": {},
   "source": [
    "With the packages imported to our notebook, we can load our dataset, and get a quick view of it:"
   ]
  },
  {
   "cell_type": "code",
   "execution_count": 3,
   "id": "2abfd1ed",
   "metadata": {},
   "outputs": [
    {
     "data": {
      "text/html": [
       "<div>\n",
       "<style scoped>\n",
       "    .dataframe tbody tr th:only-of-type {\n",
       "        vertical-align: middle;\n",
       "    }\n",
       "\n",
       "    .dataframe tbody tr th {\n",
       "        vertical-align: top;\n",
       "    }\n",
       "\n",
       "    .dataframe thead th {\n",
       "        text-align: right;\n",
       "    }\n",
       "</style>\n",
       "<table border=\"1\" class=\"dataframe\">\n",
       "  <thead>\n",
       "    <tr style=\"text-align: right;\">\n",
       "      <th></th>\n",
       "      <th>PatientId</th>\n",
       "      <th>AppointmentID</th>\n",
       "      <th>Gender</th>\n",
       "      <th>ScheduledDay</th>\n",
       "      <th>AppointmentDay</th>\n",
       "      <th>Age</th>\n",
       "      <th>Neighbourhood</th>\n",
       "      <th>Scholarship</th>\n",
       "      <th>Hipertension</th>\n",
       "      <th>Diabetes</th>\n",
       "      <th>Alcoholism</th>\n",
       "      <th>Handcap</th>\n",
       "      <th>SMS_received</th>\n",
       "      <th>No-show</th>\n",
       "    </tr>\n",
       "  </thead>\n",
       "  <tbody>\n",
       "    <tr>\n",
       "      <th>0</th>\n",
       "      <td>2.987250e+13</td>\n",
       "      <td>5642903</td>\n",
       "      <td>F</td>\n",
       "      <td>2016-04-29T18:38:08Z</td>\n",
       "      <td>2016-04-29T00:00:00Z</td>\n",
       "      <td>62</td>\n",
       "      <td>JARDIM DA PENHA</td>\n",
       "      <td>0</td>\n",
       "      <td>1</td>\n",
       "      <td>0</td>\n",
       "      <td>0</td>\n",
       "      <td>0</td>\n",
       "      <td>0</td>\n",
       "      <td>No</td>\n",
       "    </tr>\n",
       "    <tr>\n",
       "      <th>1</th>\n",
       "      <td>5.589978e+14</td>\n",
       "      <td>5642503</td>\n",
       "      <td>M</td>\n",
       "      <td>2016-04-29T16:08:27Z</td>\n",
       "      <td>2016-04-29T00:00:00Z</td>\n",
       "      <td>56</td>\n",
       "      <td>JARDIM DA PENHA</td>\n",
       "      <td>0</td>\n",
       "      <td>0</td>\n",
       "      <td>0</td>\n",
       "      <td>0</td>\n",
       "      <td>0</td>\n",
       "      <td>0</td>\n",
       "      <td>No</td>\n",
       "    </tr>\n",
       "    <tr>\n",
       "      <th>2</th>\n",
       "      <td>4.262962e+12</td>\n",
       "      <td>5642549</td>\n",
       "      <td>F</td>\n",
       "      <td>2016-04-29T16:19:04Z</td>\n",
       "      <td>2016-04-29T00:00:00Z</td>\n",
       "      <td>62</td>\n",
       "      <td>MATA DA PRAIA</td>\n",
       "      <td>0</td>\n",
       "      <td>0</td>\n",
       "      <td>0</td>\n",
       "      <td>0</td>\n",
       "      <td>0</td>\n",
       "      <td>0</td>\n",
       "      <td>No</td>\n",
       "    </tr>\n",
       "    <tr>\n",
       "      <th>3</th>\n",
       "      <td>8.679512e+11</td>\n",
       "      <td>5642828</td>\n",
       "      <td>F</td>\n",
       "      <td>2016-04-29T17:29:31Z</td>\n",
       "      <td>2016-04-29T00:00:00Z</td>\n",
       "      <td>8</td>\n",
       "      <td>PONTAL DE CAMBURI</td>\n",
       "      <td>0</td>\n",
       "      <td>0</td>\n",
       "      <td>0</td>\n",
       "      <td>0</td>\n",
       "      <td>0</td>\n",
       "      <td>0</td>\n",
       "      <td>No</td>\n",
       "    </tr>\n",
       "    <tr>\n",
       "      <th>4</th>\n",
       "      <td>8.841186e+12</td>\n",
       "      <td>5642494</td>\n",
       "      <td>F</td>\n",
       "      <td>2016-04-29T16:07:23Z</td>\n",
       "      <td>2016-04-29T00:00:00Z</td>\n",
       "      <td>56</td>\n",
       "      <td>JARDIM DA PENHA</td>\n",
       "      <td>0</td>\n",
       "      <td>1</td>\n",
       "      <td>1</td>\n",
       "      <td>0</td>\n",
       "      <td>0</td>\n",
       "      <td>0</td>\n",
       "      <td>No</td>\n",
       "    </tr>\n",
       "  </tbody>\n",
       "</table>\n",
       "</div>"
      ],
      "text/plain": [
       "      PatientId  AppointmentID Gender          ScheduledDay  \\\n",
       "0  2.987250e+13        5642903      F  2016-04-29T18:38:08Z   \n",
       "1  5.589978e+14        5642503      M  2016-04-29T16:08:27Z   \n",
       "2  4.262962e+12        5642549      F  2016-04-29T16:19:04Z   \n",
       "3  8.679512e+11        5642828      F  2016-04-29T17:29:31Z   \n",
       "4  8.841186e+12        5642494      F  2016-04-29T16:07:23Z   \n",
       "\n",
       "         AppointmentDay  Age      Neighbourhood  Scholarship  Hipertension  \\\n",
       "0  2016-04-29T00:00:00Z   62    JARDIM DA PENHA            0             1   \n",
       "1  2016-04-29T00:00:00Z   56    JARDIM DA PENHA            0             0   \n",
       "2  2016-04-29T00:00:00Z   62      MATA DA PRAIA            0             0   \n",
       "3  2016-04-29T00:00:00Z    8  PONTAL DE CAMBURI            0             0   \n",
       "4  2016-04-29T00:00:00Z   56    JARDIM DA PENHA            0             1   \n",
       "\n",
       "   Diabetes  Alcoholism  Handcap  SMS_received No-show  \n",
       "0         0           0        0             0      No  \n",
       "1         0           0        0             0      No  \n",
       "2         0           0        0             0      No  \n",
       "3         0           0        0             0      No  \n",
       "4         1           0        0             0      No  "
      ]
     },
     "execution_count": 3,
     "metadata": {},
     "output_type": "execute_result"
    }
   ],
   "source": [
    "df = pd.read_csv('noshowappointments-kagglev2-may-2016.csv')    # store the csv file in a dataframe\n",
    "five_rows(df)    # show the function is working, and could be used throughout the project"
   ]
  },
  {
   "cell_type": "markdown",
   "id": "86477cad",
   "metadata": {},
   "source": [
    "We can see if we have any duplicated value:"
   ]
  },
  {
   "cell_type": "code",
   "execution_count": 4,
   "id": "7b0bc0e6",
   "metadata": {},
   "outputs": [
    {
     "data": {
      "text/plain": [
       "0"
      ]
     },
     "execution_count": 4,
     "metadata": {},
     "output_type": "execute_result"
    }
   ],
   "source": [
    "df.duplicated().sum()    # show the total duplicated values"
   ]
  },
  {
   "cell_type": "markdown",
   "id": "98aff42f",
   "metadata": {},
   "source": [
    "We can see the columns of the dataframe and its index: "
   ]
  },
  {
   "cell_type": "code",
   "execution_count": 5,
   "id": "5a6ea8ca",
   "metadata": {},
   "outputs": [
    {
     "name": "stdout",
     "output_type": "stream",
     "text": [
      "0 PatientId\n",
      "1 AppointmentID\n",
      "2 Gender\n",
      "3 ScheduledDay\n",
      "4 AppointmentDay\n",
      "5 Age\n",
      "6 Neighbourhood\n",
      "7 Scholarship\n",
      "8 Hipertension\n",
      "9 Diabetes\n",
      "10 Alcoholism\n",
      "11 Handcap\n",
      "12 SMS_received\n",
      "13 No-show\n"
     ]
    }
   ],
   "source": [
    "for i, v in enumerate (df.columns):\n",
    "    print(i, v)"
   ]
  },
  {
   "cell_type": "markdown",
   "id": "92e87c66",
   "metadata": {},
   "source": [
    "As we can see, our dataset has 13 features, but some of them will not be used, so we will drop the following columns:\n",
    "\n",
    "* PatientId\n",
    "* AppointmentID"
   ]
  },
  {
   "cell_type": "code",
   "execution_count": 6,
   "id": "85d08fe0",
   "metadata": {},
   "outputs": [
    {
     "data": {
      "text/html": [
       "<div>\n",
       "<style scoped>\n",
       "    .dataframe tbody tr th:only-of-type {\n",
       "        vertical-align: middle;\n",
       "    }\n",
       "\n",
       "    .dataframe tbody tr th {\n",
       "        vertical-align: top;\n",
       "    }\n",
       "\n",
       "    .dataframe thead th {\n",
       "        text-align: right;\n",
       "    }\n",
       "</style>\n",
       "<table border=\"1\" class=\"dataframe\">\n",
       "  <thead>\n",
       "    <tr style=\"text-align: right;\">\n",
       "      <th></th>\n",
       "      <th>Gender</th>\n",
       "      <th>ScheduledDay</th>\n",
       "      <th>AppointmentDay</th>\n",
       "      <th>Age</th>\n",
       "      <th>Neighbourhood</th>\n",
       "      <th>Scholarship</th>\n",
       "      <th>Hipertension</th>\n",
       "      <th>Diabetes</th>\n",
       "      <th>Alcoholism</th>\n",
       "      <th>Handcap</th>\n",
       "      <th>SMS_received</th>\n",
       "      <th>No-show</th>\n",
       "    </tr>\n",
       "  </thead>\n",
       "  <tbody>\n",
       "    <tr>\n",
       "      <th>0</th>\n",
       "      <td>F</td>\n",
       "      <td>2016-04-29T18:38:08Z</td>\n",
       "      <td>2016-04-29T00:00:00Z</td>\n",
       "      <td>62</td>\n",
       "      <td>JARDIM DA PENHA</td>\n",
       "      <td>0</td>\n",
       "      <td>1</td>\n",
       "      <td>0</td>\n",
       "      <td>0</td>\n",
       "      <td>0</td>\n",
       "      <td>0</td>\n",
       "      <td>No</td>\n",
       "    </tr>\n",
       "    <tr>\n",
       "      <th>1</th>\n",
       "      <td>M</td>\n",
       "      <td>2016-04-29T16:08:27Z</td>\n",
       "      <td>2016-04-29T00:00:00Z</td>\n",
       "      <td>56</td>\n",
       "      <td>JARDIM DA PENHA</td>\n",
       "      <td>0</td>\n",
       "      <td>0</td>\n",
       "      <td>0</td>\n",
       "      <td>0</td>\n",
       "      <td>0</td>\n",
       "      <td>0</td>\n",
       "      <td>No</td>\n",
       "    </tr>\n",
       "    <tr>\n",
       "      <th>2</th>\n",
       "      <td>F</td>\n",
       "      <td>2016-04-29T16:19:04Z</td>\n",
       "      <td>2016-04-29T00:00:00Z</td>\n",
       "      <td>62</td>\n",
       "      <td>MATA DA PRAIA</td>\n",
       "      <td>0</td>\n",
       "      <td>0</td>\n",
       "      <td>0</td>\n",
       "      <td>0</td>\n",
       "      <td>0</td>\n",
       "      <td>0</td>\n",
       "      <td>No</td>\n",
       "    </tr>\n",
       "    <tr>\n",
       "      <th>3</th>\n",
       "      <td>F</td>\n",
       "      <td>2016-04-29T17:29:31Z</td>\n",
       "      <td>2016-04-29T00:00:00Z</td>\n",
       "      <td>8</td>\n",
       "      <td>PONTAL DE CAMBURI</td>\n",
       "      <td>0</td>\n",
       "      <td>0</td>\n",
       "      <td>0</td>\n",
       "      <td>0</td>\n",
       "      <td>0</td>\n",
       "      <td>0</td>\n",
       "      <td>No</td>\n",
       "    </tr>\n",
       "    <tr>\n",
       "      <th>4</th>\n",
       "      <td>F</td>\n",
       "      <td>2016-04-29T16:07:23Z</td>\n",
       "      <td>2016-04-29T00:00:00Z</td>\n",
       "      <td>56</td>\n",
       "      <td>JARDIM DA PENHA</td>\n",
       "      <td>0</td>\n",
       "      <td>1</td>\n",
       "      <td>1</td>\n",
       "      <td>0</td>\n",
       "      <td>0</td>\n",
       "      <td>0</td>\n",
       "      <td>No</td>\n",
       "    </tr>\n",
       "  </tbody>\n",
       "</table>\n",
       "</div>"
      ],
      "text/plain": [
       "  Gender          ScheduledDay        AppointmentDay  Age      Neighbourhood  \\\n",
       "0      F  2016-04-29T18:38:08Z  2016-04-29T00:00:00Z   62    JARDIM DA PENHA   \n",
       "1      M  2016-04-29T16:08:27Z  2016-04-29T00:00:00Z   56    JARDIM DA PENHA   \n",
       "2      F  2016-04-29T16:19:04Z  2016-04-29T00:00:00Z   62      MATA DA PRAIA   \n",
       "3      F  2016-04-29T17:29:31Z  2016-04-29T00:00:00Z    8  PONTAL DE CAMBURI   \n",
       "4      F  2016-04-29T16:07:23Z  2016-04-29T00:00:00Z   56    JARDIM DA PENHA   \n",
       "\n",
       "   Scholarship  Hipertension  Diabetes  Alcoholism  Handcap  SMS_received  \\\n",
       "0            0             1         0           0        0             0   \n",
       "1            0             0         0           0        0             0   \n",
       "2            0             0         0           0        0             0   \n",
       "3            0             0         0           0        0             0   \n",
       "4            0             1         1           0        0             0   \n",
       "\n",
       "  No-show  \n",
       "0      No  \n",
       "1      No  \n",
       "2      No  \n",
       "3      No  \n",
       "4      No  "
      ]
     },
     "execution_count": 6,
     "metadata": {},
     "output_type": "execute_result"
    }
   ],
   "source": [
    "df.drop(['PatientId', 'AppointmentID'], axis=1, inplace=True)    # drop the columns\n",
    "df.head()"
   ]
  },
  {
   "cell_type": "markdown",
   "id": "c282c41b",
   "metadata": {},
   "source": [
    "We will change the name of the columns, so they are standardized:"
   ]
  },
  {
   "cell_type": "code",
   "execution_count": 7,
   "id": "09c06987",
   "metadata": {},
   "outputs": [
    {
     "data": {
      "text/html": [
       "<div>\n",
       "<style scoped>\n",
       "    .dataframe tbody tr th:only-of-type {\n",
       "        vertical-align: middle;\n",
       "    }\n",
       "\n",
       "    .dataframe tbody tr th {\n",
       "        vertical-align: top;\n",
       "    }\n",
       "\n",
       "    .dataframe thead th {\n",
       "        text-align: right;\n",
       "    }\n",
       "</style>\n",
       "<table border=\"1\" class=\"dataframe\">\n",
       "  <thead>\n",
       "    <tr style=\"text-align: right;\">\n",
       "      <th></th>\n",
       "      <th>gender</th>\n",
       "      <th>scheduled_day</th>\n",
       "      <th>appointment_day</th>\n",
       "      <th>age</th>\n",
       "      <th>neighbourhood</th>\n",
       "      <th>scholarship</th>\n",
       "      <th>hipertension</th>\n",
       "      <th>diabetes</th>\n",
       "      <th>alcoholism</th>\n",
       "      <th>handcap</th>\n",
       "      <th>sms_received</th>\n",
       "      <th>no_show</th>\n",
       "    </tr>\n",
       "  </thead>\n",
       "  <tbody>\n",
       "    <tr>\n",
       "      <th>0</th>\n",
       "      <td>F</td>\n",
       "      <td>2016-04-29T18:38:08Z</td>\n",
       "      <td>2016-04-29T00:00:00Z</td>\n",
       "      <td>62</td>\n",
       "      <td>JARDIM DA PENHA</td>\n",
       "      <td>0</td>\n",
       "      <td>1</td>\n",
       "      <td>0</td>\n",
       "      <td>0</td>\n",
       "      <td>0</td>\n",
       "      <td>0</td>\n",
       "      <td>No</td>\n",
       "    </tr>\n",
       "    <tr>\n",
       "      <th>1</th>\n",
       "      <td>M</td>\n",
       "      <td>2016-04-29T16:08:27Z</td>\n",
       "      <td>2016-04-29T00:00:00Z</td>\n",
       "      <td>56</td>\n",
       "      <td>JARDIM DA PENHA</td>\n",
       "      <td>0</td>\n",
       "      <td>0</td>\n",
       "      <td>0</td>\n",
       "      <td>0</td>\n",
       "      <td>0</td>\n",
       "      <td>0</td>\n",
       "      <td>No</td>\n",
       "    </tr>\n",
       "    <tr>\n",
       "      <th>2</th>\n",
       "      <td>F</td>\n",
       "      <td>2016-04-29T16:19:04Z</td>\n",
       "      <td>2016-04-29T00:00:00Z</td>\n",
       "      <td>62</td>\n",
       "      <td>MATA DA PRAIA</td>\n",
       "      <td>0</td>\n",
       "      <td>0</td>\n",
       "      <td>0</td>\n",
       "      <td>0</td>\n",
       "      <td>0</td>\n",
       "      <td>0</td>\n",
       "      <td>No</td>\n",
       "    </tr>\n",
       "    <tr>\n",
       "      <th>3</th>\n",
       "      <td>F</td>\n",
       "      <td>2016-04-29T17:29:31Z</td>\n",
       "      <td>2016-04-29T00:00:00Z</td>\n",
       "      <td>8</td>\n",
       "      <td>PONTAL DE CAMBURI</td>\n",
       "      <td>0</td>\n",
       "      <td>0</td>\n",
       "      <td>0</td>\n",
       "      <td>0</td>\n",
       "      <td>0</td>\n",
       "      <td>0</td>\n",
       "      <td>No</td>\n",
       "    </tr>\n",
       "    <tr>\n",
       "      <th>4</th>\n",
       "      <td>F</td>\n",
       "      <td>2016-04-29T16:07:23Z</td>\n",
       "      <td>2016-04-29T00:00:00Z</td>\n",
       "      <td>56</td>\n",
       "      <td>JARDIM DA PENHA</td>\n",
       "      <td>0</td>\n",
       "      <td>1</td>\n",
       "      <td>1</td>\n",
       "      <td>0</td>\n",
       "      <td>0</td>\n",
       "      <td>0</td>\n",
       "      <td>No</td>\n",
       "    </tr>\n",
       "  </tbody>\n",
       "</table>\n",
       "</div>"
      ],
      "text/plain": [
       "  gender         scheduled_day       appointment_day  age      neighbourhood  \\\n",
       "0      F  2016-04-29T18:38:08Z  2016-04-29T00:00:00Z   62    JARDIM DA PENHA   \n",
       "1      M  2016-04-29T16:08:27Z  2016-04-29T00:00:00Z   56    JARDIM DA PENHA   \n",
       "2      F  2016-04-29T16:19:04Z  2016-04-29T00:00:00Z   62      MATA DA PRAIA   \n",
       "3      F  2016-04-29T17:29:31Z  2016-04-29T00:00:00Z    8  PONTAL DE CAMBURI   \n",
       "4      F  2016-04-29T16:07:23Z  2016-04-29T00:00:00Z   56    JARDIM DA PENHA   \n",
       "\n",
       "   scholarship  hipertension  diabetes  alcoholism  handcap  sms_received  \\\n",
       "0            0             1         0           0        0             0   \n",
       "1            0             0         0           0        0             0   \n",
       "2            0             0         0           0        0             0   \n",
       "3            0             0         0           0        0             0   \n",
       "4            0             1         1           0        0             0   \n",
       "\n",
       "  no_show  \n",
       "0      No  \n",
       "1      No  \n",
       "2      No  \n",
       "3      No  \n",
       "4      No  "
      ]
     },
     "execution_count": 7,
     "metadata": {},
     "output_type": "execute_result"
    }
   ],
   "source": [
    "df.rename(columns=lambda x: x.strip().lower().replace('-', '_'), inplace=True)    # set the columns names for lower case and replace - for _\n",
    "df.rename(columns={'scheduledday': 'scheduled_day', 'appointmentday': 'appointment_day'}, inplace=True)    # change the columns names\n",
    "df.head()"
   ]
  },
  {
   "cell_type": "markdown",
   "id": "47ec138e",
   "metadata": {},
   "source": [
    "We can see the dimensions of our dataset now:"
   ]
  },
  {
   "cell_type": "code",
   "execution_count": 8,
   "id": "6aaf27ff",
   "metadata": {},
   "outputs": [
    {
     "data": {
      "text/plain": [
       "(110527, 12)"
      ]
     },
     "execution_count": 8,
     "metadata": {},
     "output_type": "execute_result"
    }
   ],
   "source": [
    "df.shape    # show the number of rows and columns"
   ]
  },
  {
   "cell_type": "markdown",
   "id": "72aa37ae",
   "metadata": {},
   "source": [
    "We can see the datatype of our data:"
   ]
  },
  {
   "cell_type": "code",
   "execution_count": 9,
   "id": "78cb4edf",
   "metadata": {},
   "outputs": [
    {
     "data": {
      "text/plain": [
       "gender             object\n",
       "scheduled_day      object\n",
       "appointment_day    object\n",
       "age                 int64\n",
       "neighbourhood      object\n",
       "scholarship         int64\n",
       "hipertension        int64\n",
       "diabetes            int64\n",
       "alcoholism          int64\n",
       "handcap             int64\n",
       "sms_received        int64\n",
       "no_show            object\n",
       "dtype: object"
      ]
     },
     "execution_count": 9,
     "metadata": {},
     "output_type": "execute_result"
    }
   ],
   "source": [
    "df.dtypes    # see the datatype of each column"
   ]
  },
  {
   "cell_type": "markdown",
   "id": "987a8de6",
   "metadata": {},
   "source": [
    "We will change scheduled_day and appointment_day datatype to datetime, which will help in our analysis:"
   ]
  },
  {
   "cell_type": "code",
   "execution_count": 10,
   "id": "a6769dcb",
   "metadata": {},
   "outputs": [],
   "source": [
    "df['scheduled_day'] = df['scheduled_day'].astype('datetime64[ns]').dt.date.astype('datetime64[ns]')  # change the datatype to datetime and remove the time as well\n",
    "df['appointment_day'] = df['appointment_day'].astype('datetime64[ns]')    # change the datatype to datetime"
   ]
  },
  {
   "cell_type": "code",
   "execution_count": 11,
   "id": "fbace4c5",
   "metadata": {},
   "outputs": [
    {
     "data": {
      "text/plain": [
       "gender                     object\n",
       "scheduled_day      datetime64[ns]\n",
       "appointment_day    datetime64[ns]\n",
       "age                         int64\n",
       "neighbourhood              object\n",
       "scholarship                 int64\n",
       "hipertension                int64\n",
       "diabetes                    int64\n",
       "alcoholism                  int64\n",
       "handcap                     int64\n",
       "sms_received                int64\n",
       "no_show                    object\n",
       "dtype: object"
      ]
     },
     "execution_count": 11,
     "metadata": {},
     "output_type": "execute_result"
    }
   ],
   "source": [
    "df.dtypes"
   ]
  },
  {
   "cell_type": "code",
   "execution_count": 12,
   "id": "dda33c3b",
   "metadata": {},
   "outputs": [
    {
     "data": {
      "text/html": [
       "<div>\n",
       "<style scoped>\n",
       "    .dataframe tbody tr th:only-of-type {\n",
       "        vertical-align: middle;\n",
       "    }\n",
       "\n",
       "    .dataframe tbody tr th {\n",
       "        vertical-align: top;\n",
       "    }\n",
       "\n",
       "    .dataframe thead th {\n",
       "        text-align: right;\n",
       "    }\n",
       "</style>\n",
       "<table border=\"1\" class=\"dataframe\">\n",
       "  <thead>\n",
       "    <tr style=\"text-align: right;\">\n",
       "      <th></th>\n",
       "      <th>gender</th>\n",
       "      <th>scheduled_day</th>\n",
       "      <th>appointment_day</th>\n",
       "      <th>age</th>\n",
       "      <th>neighbourhood</th>\n",
       "      <th>scholarship</th>\n",
       "      <th>hipertension</th>\n",
       "      <th>diabetes</th>\n",
       "      <th>alcoholism</th>\n",
       "      <th>handcap</th>\n",
       "      <th>sms_received</th>\n",
       "      <th>no_show</th>\n",
       "    </tr>\n",
       "  </thead>\n",
       "  <tbody>\n",
       "    <tr>\n",
       "      <th>0</th>\n",
       "      <td>F</td>\n",
       "      <td>2016-04-29</td>\n",
       "      <td>2016-04-29</td>\n",
       "      <td>62</td>\n",
       "      <td>JARDIM DA PENHA</td>\n",
       "      <td>0</td>\n",
       "      <td>1</td>\n",
       "      <td>0</td>\n",
       "      <td>0</td>\n",
       "      <td>0</td>\n",
       "      <td>0</td>\n",
       "      <td>No</td>\n",
       "    </tr>\n",
       "    <tr>\n",
       "      <th>1</th>\n",
       "      <td>M</td>\n",
       "      <td>2016-04-29</td>\n",
       "      <td>2016-04-29</td>\n",
       "      <td>56</td>\n",
       "      <td>JARDIM DA PENHA</td>\n",
       "      <td>0</td>\n",
       "      <td>0</td>\n",
       "      <td>0</td>\n",
       "      <td>0</td>\n",
       "      <td>0</td>\n",
       "      <td>0</td>\n",
       "      <td>No</td>\n",
       "    </tr>\n",
       "    <tr>\n",
       "      <th>2</th>\n",
       "      <td>F</td>\n",
       "      <td>2016-04-29</td>\n",
       "      <td>2016-04-29</td>\n",
       "      <td>62</td>\n",
       "      <td>MATA DA PRAIA</td>\n",
       "      <td>0</td>\n",
       "      <td>0</td>\n",
       "      <td>0</td>\n",
       "      <td>0</td>\n",
       "      <td>0</td>\n",
       "      <td>0</td>\n",
       "      <td>No</td>\n",
       "    </tr>\n",
       "    <tr>\n",
       "      <th>3</th>\n",
       "      <td>F</td>\n",
       "      <td>2016-04-29</td>\n",
       "      <td>2016-04-29</td>\n",
       "      <td>8</td>\n",
       "      <td>PONTAL DE CAMBURI</td>\n",
       "      <td>0</td>\n",
       "      <td>0</td>\n",
       "      <td>0</td>\n",
       "      <td>0</td>\n",
       "      <td>0</td>\n",
       "      <td>0</td>\n",
       "      <td>No</td>\n",
       "    </tr>\n",
       "    <tr>\n",
       "      <th>4</th>\n",
       "      <td>F</td>\n",
       "      <td>2016-04-29</td>\n",
       "      <td>2016-04-29</td>\n",
       "      <td>56</td>\n",
       "      <td>JARDIM DA PENHA</td>\n",
       "      <td>0</td>\n",
       "      <td>1</td>\n",
       "      <td>1</td>\n",
       "      <td>0</td>\n",
       "      <td>0</td>\n",
       "      <td>0</td>\n",
       "      <td>No</td>\n",
       "    </tr>\n",
       "  </tbody>\n",
       "</table>\n",
       "</div>"
      ],
      "text/plain": [
       "  gender scheduled_day appointment_day  age      neighbourhood  scholarship  \\\n",
       "0      F    2016-04-29      2016-04-29   62    JARDIM DA PENHA            0   \n",
       "1      M    2016-04-29      2016-04-29   56    JARDIM DA PENHA            0   \n",
       "2      F    2016-04-29      2016-04-29   62      MATA DA PRAIA            0   \n",
       "3      F    2016-04-29      2016-04-29    8  PONTAL DE CAMBURI            0   \n",
       "4      F    2016-04-29      2016-04-29   56    JARDIM DA PENHA            0   \n",
       "\n",
       "   hipertension  diabetes  alcoholism  handcap  sms_received no_show  \n",
       "0             1         0           0        0             0      No  \n",
       "1             0         0           0        0             0      No  \n",
       "2             0         0           0        0             0      No  \n",
       "3             0         0           0        0             0      No  \n",
       "4             1         1           0        0             0      No  "
      ]
     },
     "execution_count": 12,
     "metadata": {},
     "output_type": "execute_result"
    }
   ],
   "source": [
    "df.head()"
   ]
  },
  {
   "cell_type": "markdown",
   "id": "b6657069",
   "metadata": {},
   "source": [
    "Now we will see if there are rows with missing values, and as there is none, our analysis will be more precise:"
   ]
  },
  {
   "cell_type": "code",
   "execution_count": 13,
   "id": "d957ddd6",
   "metadata": {},
   "outputs": [
    {
     "data": {
      "text/plain": [
       "gender             0\n",
       "scheduled_day      0\n",
       "appointment_day    0\n",
       "age                0\n",
       "neighbourhood      0\n",
       "scholarship        0\n",
       "hipertension       0\n",
       "diabetes           0\n",
       "alcoholism         0\n",
       "handcap            0\n",
       "sms_received       0\n",
       "no_show            0\n",
       "dtype: int64"
      ]
     },
     "execution_count": 13,
     "metadata": {},
     "output_type": "execute_result"
    }
   ],
   "source": [
    "df.isnull().sum()    # see the number of missing columns of each column"
   ]
  },
  {
   "cell_type": "markdown",
   "id": "054ce5b2",
   "metadata": {},
   "source": [
    "We will create another column, with the diference in days between the appointment and the scheduled days:"
   ]
  },
  {
   "cell_type": "code",
   "execution_count": 14,
   "id": "2f6d8167",
   "metadata": {},
   "outputs": [
    {
     "data": {
      "text/html": [
       "<div>\n",
       "<style scoped>\n",
       "    .dataframe tbody tr th:only-of-type {\n",
       "        vertical-align: middle;\n",
       "    }\n",
       "\n",
       "    .dataframe tbody tr th {\n",
       "        vertical-align: top;\n",
       "    }\n",
       "\n",
       "    .dataframe thead th {\n",
       "        text-align: right;\n",
       "    }\n",
       "</style>\n",
       "<table border=\"1\" class=\"dataframe\">\n",
       "  <thead>\n",
       "    <tr style=\"text-align: right;\">\n",
       "      <th></th>\n",
       "      <th>gender</th>\n",
       "      <th>scheduled_day</th>\n",
       "      <th>appointment_day</th>\n",
       "      <th>age</th>\n",
       "      <th>neighbourhood</th>\n",
       "      <th>scholarship</th>\n",
       "      <th>hipertension</th>\n",
       "      <th>diabetes</th>\n",
       "      <th>alcoholism</th>\n",
       "      <th>handcap</th>\n",
       "      <th>sms_received</th>\n",
       "      <th>no_show</th>\n",
       "      <th>difference_days</th>\n",
       "    </tr>\n",
       "  </thead>\n",
       "  <tbody>\n",
       "    <tr>\n",
       "      <th>0</th>\n",
       "      <td>F</td>\n",
       "      <td>2016-04-29</td>\n",
       "      <td>2016-04-29</td>\n",
       "      <td>62</td>\n",
       "      <td>JARDIM DA PENHA</td>\n",
       "      <td>0</td>\n",
       "      <td>1</td>\n",
       "      <td>0</td>\n",
       "      <td>0</td>\n",
       "      <td>0</td>\n",
       "      <td>0</td>\n",
       "      <td>No</td>\n",
       "      <td>0</td>\n",
       "    </tr>\n",
       "    <tr>\n",
       "      <th>1</th>\n",
       "      <td>M</td>\n",
       "      <td>2016-04-29</td>\n",
       "      <td>2016-04-29</td>\n",
       "      <td>56</td>\n",
       "      <td>JARDIM DA PENHA</td>\n",
       "      <td>0</td>\n",
       "      <td>0</td>\n",
       "      <td>0</td>\n",
       "      <td>0</td>\n",
       "      <td>0</td>\n",
       "      <td>0</td>\n",
       "      <td>No</td>\n",
       "      <td>0</td>\n",
       "    </tr>\n",
       "    <tr>\n",
       "      <th>2</th>\n",
       "      <td>F</td>\n",
       "      <td>2016-04-29</td>\n",
       "      <td>2016-04-29</td>\n",
       "      <td>62</td>\n",
       "      <td>MATA DA PRAIA</td>\n",
       "      <td>0</td>\n",
       "      <td>0</td>\n",
       "      <td>0</td>\n",
       "      <td>0</td>\n",
       "      <td>0</td>\n",
       "      <td>0</td>\n",
       "      <td>No</td>\n",
       "      <td>0</td>\n",
       "    </tr>\n",
       "    <tr>\n",
       "      <th>3</th>\n",
       "      <td>F</td>\n",
       "      <td>2016-04-29</td>\n",
       "      <td>2016-04-29</td>\n",
       "      <td>8</td>\n",
       "      <td>PONTAL DE CAMBURI</td>\n",
       "      <td>0</td>\n",
       "      <td>0</td>\n",
       "      <td>0</td>\n",
       "      <td>0</td>\n",
       "      <td>0</td>\n",
       "      <td>0</td>\n",
       "      <td>No</td>\n",
       "      <td>0</td>\n",
       "    </tr>\n",
       "    <tr>\n",
       "      <th>4</th>\n",
       "      <td>F</td>\n",
       "      <td>2016-04-29</td>\n",
       "      <td>2016-04-29</td>\n",
       "      <td>56</td>\n",
       "      <td>JARDIM DA PENHA</td>\n",
       "      <td>0</td>\n",
       "      <td>1</td>\n",
       "      <td>1</td>\n",
       "      <td>0</td>\n",
       "      <td>0</td>\n",
       "      <td>0</td>\n",
       "      <td>No</td>\n",
       "      <td>0</td>\n",
       "    </tr>\n",
       "  </tbody>\n",
       "</table>\n",
       "</div>"
      ],
      "text/plain": [
       "  gender scheduled_day appointment_day  age      neighbourhood  scholarship  \\\n",
       "0      F    2016-04-29      2016-04-29   62    JARDIM DA PENHA            0   \n",
       "1      M    2016-04-29      2016-04-29   56    JARDIM DA PENHA            0   \n",
       "2      F    2016-04-29      2016-04-29   62      MATA DA PRAIA            0   \n",
       "3      F    2016-04-29      2016-04-29    8  PONTAL DE CAMBURI            0   \n",
       "4      F    2016-04-29      2016-04-29   56    JARDIM DA PENHA            0   \n",
       "\n",
       "   hipertension  diabetes  alcoholism  handcap  sms_received no_show  \\\n",
       "0             1         0           0        0             0      No   \n",
       "1             0         0           0        0             0      No   \n",
       "2             0         0           0        0             0      No   \n",
       "3             0         0           0        0             0      No   \n",
       "4             1         1           0        0             0      No   \n",
       "\n",
       "   difference_days  \n",
       "0                0  \n",
       "1                0  \n",
       "2                0  \n",
       "3                0  \n",
       "4                0  "
      ]
     },
     "execution_count": 14,
     "metadata": {},
     "output_type": "execute_result"
    }
   ],
   "source": [
    "df['difference_days'] = (df['appointment_day'] - df['scheduled_day']).dt.days    # create another column\n",
    "df.head()"
   ]
  },
  {
   "cell_type": "markdown",
   "id": "10863d09",
   "metadata": {},
   "source": [
    "As the difference between the appointment and the scheduled days is what matter to us, not the days themselves, we can drop both of these columns:"
   ]
  },
  {
   "cell_type": "code",
   "execution_count": 15,
   "id": "190e1791",
   "metadata": {},
   "outputs": [
    {
     "data": {
      "text/html": [
       "<div>\n",
       "<style scoped>\n",
       "    .dataframe tbody tr th:only-of-type {\n",
       "        vertical-align: middle;\n",
       "    }\n",
       "\n",
       "    .dataframe tbody tr th {\n",
       "        vertical-align: top;\n",
       "    }\n",
       "\n",
       "    .dataframe thead th {\n",
       "        text-align: right;\n",
       "    }\n",
       "</style>\n",
       "<table border=\"1\" class=\"dataframe\">\n",
       "  <thead>\n",
       "    <tr style=\"text-align: right;\">\n",
       "      <th></th>\n",
       "      <th>neighbourhood</th>\n",
       "      <th>gender</th>\n",
       "      <th>age</th>\n",
       "      <th>scholarship</th>\n",
       "      <th>hipertension</th>\n",
       "      <th>diabetes</th>\n",
       "      <th>alcoholism</th>\n",
       "      <th>handcap</th>\n",
       "      <th>sms_received</th>\n",
       "      <th>difference_days</th>\n",
       "      <th>no_show</th>\n",
       "    </tr>\n",
       "  </thead>\n",
       "  <tbody>\n",
       "    <tr>\n",
       "      <th>0</th>\n",
       "      <td>JARDIM DA PENHA</td>\n",
       "      <td>F</td>\n",
       "      <td>62</td>\n",
       "      <td>0</td>\n",
       "      <td>1</td>\n",
       "      <td>0</td>\n",
       "      <td>0</td>\n",
       "      <td>0</td>\n",
       "      <td>0</td>\n",
       "      <td>0</td>\n",
       "      <td>No</td>\n",
       "    </tr>\n",
       "    <tr>\n",
       "      <th>1</th>\n",
       "      <td>JARDIM DA PENHA</td>\n",
       "      <td>M</td>\n",
       "      <td>56</td>\n",
       "      <td>0</td>\n",
       "      <td>0</td>\n",
       "      <td>0</td>\n",
       "      <td>0</td>\n",
       "      <td>0</td>\n",
       "      <td>0</td>\n",
       "      <td>0</td>\n",
       "      <td>No</td>\n",
       "    </tr>\n",
       "    <tr>\n",
       "      <th>2</th>\n",
       "      <td>MATA DA PRAIA</td>\n",
       "      <td>F</td>\n",
       "      <td>62</td>\n",
       "      <td>0</td>\n",
       "      <td>0</td>\n",
       "      <td>0</td>\n",
       "      <td>0</td>\n",
       "      <td>0</td>\n",
       "      <td>0</td>\n",
       "      <td>0</td>\n",
       "      <td>No</td>\n",
       "    </tr>\n",
       "    <tr>\n",
       "      <th>3</th>\n",
       "      <td>PONTAL DE CAMBURI</td>\n",
       "      <td>F</td>\n",
       "      <td>8</td>\n",
       "      <td>0</td>\n",
       "      <td>0</td>\n",
       "      <td>0</td>\n",
       "      <td>0</td>\n",
       "      <td>0</td>\n",
       "      <td>0</td>\n",
       "      <td>0</td>\n",
       "      <td>No</td>\n",
       "    </tr>\n",
       "    <tr>\n",
       "      <th>4</th>\n",
       "      <td>JARDIM DA PENHA</td>\n",
       "      <td>F</td>\n",
       "      <td>56</td>\n",
       "      <td>0</td>\n",
       "      <td>1</td>\n",
       "      <td>1</td>\n",
       "      <td>0</td>\n",
       "      <td>0</td>\n",
       "      <td>0</td>\n",
       "      <td>0</td>\n",
       "      <td>No</td>\n",
       "    </tr>\n",
       "  </tbody>\n",
       "</table>\n",
       "</div>"
      ],
      "text/plain": [
       "       neighbourhood gender  age  scholarship  hipertension  diabetes  \\\n",
       "0    JARDIM DA PENHA      F   62            0             1         0   \n",
       "1    JARDIM DA PENHA      M   56            0             0         0   \n",
       "2      MATA DA PRAIA      F   62            0             0         0   \n",
       "3  PONTAL DE CAMBURI      F    8            0             0         0   \n",
       "4    JARDIM DA PENHA      F   56            0             1         1   \n",
       "\n",
       "   alcoholism  handcap  sms_received  difference_days no_show  \n",
       "0           0        0             0                0      No  \n",
       "1           0        0             0                0      No  \n",
       "2           0        0             0                0      No  \n",
       "3           0        0             0                0      No  \n",
       "4           0        0             0                0      No  "
      ]
     },
     "execution_count": 15,
     "metadata": {},
     "output_type": "execute_result"
    }
   ],
   "source": [
    "df.drop(['scheduled_day', 'appointment_day'], axis=1, inplace=True)    # drop the columns \n",
    "df = df.iloc[:, [2, 0, 1, 3, 4, 5, 6, 7, 8, 10, 9]]   # change the order of the columns\n",
    "df.head()"
   ]
  },
  {
   "cell_type": "markdown",
   "id": "b90e9938",
   "metadata": {},
   "source": [
    "Now, we will change the no_show column values, with No standing to 0 and Yes standing for 1: "
   ]
  },
  {
   "cell_type": "code",
   "execution_count": 16,
   "id": "b3dbc7b1",
   "metadata": {},
   "outputs": [
    {
     "data": {
      "text/html": [
       "<div>\n",
       "<style scoped>\n",
       "    .dataframe tbody tr th:only-of-type {\n",
       "        vertical-align: middle;\n",
       "    }\n",
       "\n",
       "    .dataframe tbody tr th {\n",
       "        vertical-align: top;\n",
       "    }\n",
       "\n",
       "    .dataframe thead th {\n",
       "        text-align: right;\n",
       "    }\n",
       "</style>\n",
       "<table border=\"1\" class=\"dataframe\">\n",
       "  <thead>\n",
       "    <tr style=\"text-align: right;\">\n",
       "      <th></th>\n",
       "      <th>neighbourhood</th>\n",
       "      <th>gender</th>\n",
       "      <th>age</th>\n",
       "      <th>scholarship</th>\n",
       "      <th>hipertension</th>\n",
       "      <th>diabetes</th>\n",
       "      <th>alcoholism</th>\n",
       "      <th>handcap</th>\n",
       "      <th>sms_received</th>\n",
       "      <th>difference_days</th>\n",
       "      <th>no_show</th>\n",
       "    </tr>\n",
       "  </thead>\n",
       "  <tbody>\n",
       "    <tr>\n",
       "      <th>0</th>\n",
       "      <td>JARDIM DA PENHA</td>\n",
       "      <td>F</td>\n",
       "      <td>62</td>\n",
       "      <td>0</td>\n",
       "      <td>1</td>\n",
       "      <td>0</td>\n",
       "      <td>0</td>\n",
       "      <td>0</td>\n",
       "      <td>0</td>\n",
       "      <td>0</td>\n",
       "      <td>0</td>\n",
       "    </tr>\n",
       "    <tr>\n",
       "      <th>1</th>\n",
       "      <td>JARDIM DA PENHA</td>\n",
       "      <td>M</td>\n",
       "      <td>56</td>\n",
       "      <td>0</td>\n",
       "      <td>0</td>\n",
       "      <td>0</td>\n",
       "      <td>0</td>\n",
       "      <td>0</td>\n",
       "      <td>0</td>\n",
       "      <td>0</td>\n",
       "      <td>0</td>\n",
       "    </tr>\n",
       "    <tr>\n",
       "      <th>2</th>\n",
       "      <td>MATA DA PRAIA</td>\n",
       "      <td>F</td>\n",
       "      <td>62</td>\n",
       "      <td>0</td>\n",
       "      <td>0</td>\n",
       "      <td>0</td>\n",
       "      <td>0</td>\n",
       "      <td>0</td>\n",
       "      <td>0</td>\n",
       "      <td>0</td>\n",
       "      <td>0</td>\n",
       "    </tr>\n",
       "    <tr>\n",
       "      <th>3</th>\n",
       "      <td>PONTAL DE CAMBURI</td>\n",
       "      <td>F</td>\n",
       "      <td>8</td>\n",
       "      <td>0</td>\n",
       "      <td>0</td>\n",
       "      <td>0</td>\n",
       "      <td>0</td>\n",
       "      <td>0</td>\n",
       "      <td>0</td>\n",
       "      <td>0</td>\n",
       "      <td>0</td>\n",
       "    </tr>\n",
       "    <tr>\n",
       "      <th>4</th>\n",
       "      <td>JARDIM DA PENHA</td>\n",
       "      <td>F</td>\n",
       "      <td>56</td>\n",
       "      <td>0</td>\n",
       "      <td>1</td>\n",
       "      <td>1</td>\n",
       "      <td>0</td>\n",
       "      <td>0</td>\n",
       "      <td>0</td>\n",
       "      <td>0</td>\n",
       "      <td>0</td>\n",
       "    </tr>\n",
       "  </tbody>\n",
       "</table>\n",
       "</div>"
      ],
      "text/plain": [
       "       neighbourhood gender  age  scholarship  hipertension  diabetes  \\\n",
       "0    JARDIM DA PENHA      F   62            0             1         0   \n",
       "1    JARDIM DA PENHA      M   56            0             0         0   \n",
       "2      MATA DA PRAIA      F   62            0             0         0   \n",
       "3  PONTAL DE CAMBURI      F    8            0             0         0   \n",
       "4    JARDIM DA PENHA      F   56            0             1         1   \n",
       "\n",
       "   alcoholism  handcap  sms_received  difference_days  no_show  \n",
       "0           0        0             0                0        0  \n",
       "1           0        0             0                0        0  \n",
       "2           0        0             0                0        0  \n",
       "3           0        0             0                0        0  \n",
       "4           0        0             0                0        0  "
      ]
     },
     "execution_count": 16,
     "metadata": {},
     "output_type": "execute_result"
    }
   ],
   "source": [
    "df['no_show'].replace(('Yes', 'No'), (1, 0), inplace=True)    # replace the values\n",
    "df['no_show'] = df['no_show'].astype(int)   # change the datatype from string to int\n",
    "df.head()"
   ]
  },
  {
   "cell_type": "markdown",
   "id": "3bfe7c09",
   "metadata": {},
   "source": [
    "Finally we, will create two masks, to separate those who showed up and those who didn't show up:"
   ]
  },
  {
   "cell_type": "markdown",
   "id": "3bf066ec",
   "metadata": {},
   "source": [
    "<a id='eda'></a>\n",
    "## Exploratory Data Analysis\n",
    "\n",
    "With our data cleaned, we are ready to answer our questions."
   ]
  },
  {
   "cell_type": "markdown",
   "id": "ac4cee0d",
   "metadata": {},
   "source": [
    "### What features that are related to a no-show appointment: neighbourhood, gender, age, SMS received or difference in days?"
   ]
  },
  {
   "cell_type": "markdown",
   "id": "d389d7f1",
   "metadata": {},
   "source": [
    " * #### For neighbourhood:\n",
    " "
   ]
  },
  {
   "cell_type": "code",
   "execution_count": 41,
   "id": "ddfcbd9b",
   "metadata": {},
   "outputs": [
    {
     "data": {
      "text/plain": [
       "<AxesSubplot:xlabel='gender', ylabel='count'>"
      ]
     },
     "execution_count": 41,
     "metadata": {},
     "output_type": "execute_result"
    },
    {
     "data": {
      "image/png": "[encoded data removed]",
      "text/plain": [
       "<Figure size 432x288 with 1 Axes>"
      ]
     },
     "metadata": {
      "needs_background": "light"
     },
     "output_type": "display_data"
    }
   ],
   "source": [
    "sns.countplot(data=df, x = 'gender')"
   ]
  },
  {
   "cell_type": "code",
   "execution_count": 17,
   "id": "3a99aede",
   "metadata": {},
   "outputs": [
    {
     "data": {
      "text/plain": [
       "Text(0, 0.5, 'Neighbourhood')"
      ]
     },
     "execution_count": 17,
     "metadata": {},
     "output_type": "execute_result"
    },
    {
     "data": {
      "image/png": "[encoded data removed]",
      "text/plain": [
       "<Figure size 1440x1440 with 1 Axes>"
      ]
     },
     "metadata": {
      "needs_background": "light"
     },
     "output_type": "display_data"
    }
   ],
   "source": [
    "df.groupby(['neighbourhood', 'no_show']).count()['gender'].head(30).plot(kind='barh', figsize=(20,20))\n",
    "\n",
    "plt.title('Number of no-shows of the first 15 neighbourhoods')    # set title \n",
    "plt.xlabel('Number of people')    # set x-axis\n",
    "plt.ylabel('Neighbourhood')    # set the y-axis; "
   ]
  },
  {
   "cell_type": "markdown",
   "id": "18e141ec",
   "metadata": {},
   "source": [
    "We can see that the neighbourhood location influences whether there is a no-show or not. For instance, Cruzamento has a slight smaller number of people showing to the apppointment than Consoloação. However, the number of no-shos from Cruzamento is higher\n",
    " than Consoloação, which is a clue to our statement, as well for other locations."
   ]
  },
  {
   "cell_type": "markdown",
   "id": "880f1047",
   "metadata": {},
   "source": [
    "* #### For gender:"
   ]
  },
  {
   "cell_type": "code",
   "execution_count": null,
   "id": "6427a40d",
   "metadata": {},
   "outputs": [],
   "source": [
    "df.groupby"
   ]
  },
  {
   "cell_type": "code",
   "execution_count": 18,
   "id": "0a15e6b3",
   "metadata": {},
   "outputs": [
    {
     "data": {
      "text/plain": [
       "gender  no_show\n",
       "F       0          57246\n",
       "        1          14594\n",
       "M       0          30962\n",
       "        1           7725\n",
       "Name: age, dtype: int64"
      ]
     },
     "execution_count": 18,
     "metadata": {},
     "output_type": "execute_result"
    }
   ],
   "source": [
    "df.groupby(['gender', 'no_show']).count()['age']"
   ]
  },
  {
   "cell_type": "code",
   "execution_count": 19,
   "id": "598f7f57",
   "metadata": {
    "scrolled": true
   },
   "outputs": [
    {
     "data": {
      "image/png": "[encoded data removed]",
      "text/plain": [
       "<Figure size 432x288 with 1 Axes>"
      ]
     },
     "metadata": {
      "needs_background": "light"
     },
     "output_type": "display_data"
    }
   ],
   "source": [
    "df.groupby(['gender', 'no_show']).count()['age'].plot(kind='bar', rot=0)\n",
    "\n",
    "plt.title('Number of no-shows per gender')\n",
    "plt.xlabel('Gender / No-show')\n",
    "plt.ylabel('Number of people');"
   ]
  },
  {
   "cell_type": "markdown",
   "id": "0942728d",
   "metadata": {},
   "source": [
    "We can see that gender does not seem to influence on the no-shows, as the proportion for each gender is pretty close."
   ]
  },
  {
   "cell_type": "markdown",
   "id": "df7ea60c",
   "metadata": {},
   "source": [
    "* #### For age:"
   ]
  },
  {
   "cell_type": "code",
   "execution_count": 20,
   "id": "c7db4160",
   "metadata": {},
   "outputs": [
    {
     "data": {
      "image/png": "[encoded data removed]",
      "text/plain": [
       "<Figure size 432x288 with 1 Axes>"
      ]
     },
     "metadata": {
      "needs_background": "light"
     },
     "output_type": "display_data"
    }
   ],
   "source": [
    "count, bin_edges = np.histogram(df['age'], bins=[0,10,20,30,40,50,60,70,80,90,100])\n",
    "\n",
    "df.query('no_show == 0')['age'].to_frame().plot(kind='hist', xticks=bin_edges)\n",
    "\n",
    "plt.title('Number of people who showed per interval of age')\n",
    "plt.xlabel('Number of people');"
   ]
  },
  {
   "cell_type": "code",
   "execution_count": 21,
   "id": "24304b70",
   "metadata": {
    "scrolled": false
   },
   "outputs": [
    {
     "data": {
      "image/png": "[encoded data removed]",
      "text/plain": [
       "<Figure size 432x288 with 1 Axes>"
      ]
     },
     "metadata": {
      "needs_background": "light"
     },
     "output_type": "display_data"
    }
   ],
   "source": [
    "count, bin_edges = np.histogram(df['age'], bins=[0,10,20,30,40,50,60,70,80,90,100])\n",
    "\n",
    "df.query('no_show == 1')['age'].to_frame().plot(kind='hist', xticks=bin_edges)\n",
    "\n",
    "plt.title(\"Number of people who didn't show per interval of age\")\n",
    "plt.xlabel('Number of people');"
   ]
  },
  {
   "cell_type": "markdown",
   "id": "fa72c5e1",
   "metadata": {},
   "source": [
    "Age doesn't look to have much influence on no-show."
   ]
  },
  {
   "cell_type": "markdown",
   "id": "b2b29bf5",
   "metadata": {},
   "source": [
    "* #### For sms received:"
   ]
  },
  {
   "cell_type": "code",
   "execution_count": 22,
   "id": "04d8c1a5",
   "metadata": {},
   "outputs": [
    {
     "data": {
      "text/plain": [
       "sms_received  no_show\n",
       "0             0          62510\n",
       "              1          12535\n",
       "1             0          25698\n",
       "              1           9784\n",
       "Name: age, dtype: int64"
      ]
     },
     "execution_count": 22,
     "metadata": {},
     "output_type": "execute_result"
    }
   ],
   "source": [
    "df.groupby(['sms_received', 'no_show']).count()['age']"
   ]
  },
  {
   "cell_type": "code",
   "execution_count": 23,
   "id": "38661ea1",
   "metadata": {},
   "outputs": [
    {
     "data": {
      "image/png": "[encoded data removed]",
      "text/plain": [
       "<Figure size 432x288 with 1 Axes>"
      ]
     },
     "metadata": {
      "needs_background": "light"
     },
     "output_type": "display_data"
    }
   ],
   "source": [
    "df.groupby(['sms_received', 'no_show']).count()['age'].plot(kind='bar', rot=0)\n",
    "\n",
    "plt.title('Relation between SMS received and No-show')\n",
    "plt.xlabel('SMS received / No-show ')\n",
    "plt.ylabel('Number of people');"
   ]
  },
  {
   "cell_type": "markdown",
   "id": "787e7090",
   "metadata": {},
   "source": [
    "It seems that receiving a SMS, makes the patient more likely to show for the appointment, than if he doesn't receive one."
   ]
  },
  {
   "cell_type": "markdown",
   "id": "17688fd3",
   "metadata": {},
   "source": [
    "* #### For diference in days:"
   ]
  },
  {
   "cell_type": "code",
   "execution_count": 24,
   "id": "75ff3adc",
   "metadata": {
    "scrolled": true
   },
   "outputs": [
    {
     "data": {
      "image/png": "[encoded data removed]",
      "text/plain": [
       "<Figure size 432x288 with 1 Axes>"
      ]
     },
     "metadata": {
      "needs_background": "light"
     },
     "output_type": "display_data"
    }
   ],
   "source": [
    "df.query('no_show == 0')['difference_days'].to_frame().plot(kind='hist', bins=[0,10,20,30,40,50,60])\n",
    "\n",
    "plt.title('Number of people who showed per interval of difference in days')\n",
    "plt.xlabel('Number of people')\n",
    "plt.xlim(0,60);"
   ]
  },
  {
   "cell_type": "code",
   "execution_count": 25,
   "id": "95339a7f",
   "metadata": {},
   "outputs": [
    {
     "data": {
      "image/png": "[encoded data removed]",
      "text/plain": [
       "<Figure size 432x288 with 1 Axes>"
      ]
     },
     "metadata": {
      "needs_background": "light"
     },
     "output_type": "display_data"
    }
   ],
   "source": [
    "df.query('no_show == 1')['difference_days'].to_frame().plot(kind='hist', bins=[0,10,20,30,40,50,60])\n",
    "\n",
    "plt.title(\"Number of people who didn't show per interval of difference in days\")\n",
    "plt.xlabel('Number of people')\n",
    "plt.xlim(0,60);"
   ]
  },
  {
   "cell_type": "markdown",
   "id": "2ae5683f",
   "metadata": {},
   "source": [
    "We can see that, the higher the difference in days of the scheduled and the appointment, higher the chances are of a no-show"
   ]
  },
  {
   "cell_type": "markdown",
   "id": "78a4ebac",
   "metadata": {},
   "source": [
    "### Is there any relation between the age and the difference in days?"
   ]
  },
  {
   "cell_type": "code",
   "execution_count": 26,
   "id": "4ec2fbba",
   "metadata": {},
   "outputs": [
    {
     "data": {
      "image/png": "[encoded data removed]",
      "text/plain": [
       "<Figure size 432x288 with 1 Axes>"
      ]
     },
     "metadata": {
      "needs_background": "light"
     },
     "output_type": "display_data"
    }
   ],
   "source": [
    "sns.regplot(x='difference_days', y='age', data=df)\n",
    "\n",
    "plt.title('Relation between difference in days and age')\n",
    "plt.xlabel('Diference in days')\n",
    "plt.ylabel('Age');"
   ]
  },
  {
   "cell_type": "markdown",
   "id": "8fe8ffdb",
   "metadata": {},
   "source": [
    "With the scatter plot above, as well as with the adjusted regression line, the two features don't have much influence at each other."
   ]
  },
  {
   "cell_type": "markdown",
   "id": "6eb84813",
   "metadata": {},
   "source": [
    "### What disease is more connected with alcoholism: hipertension or diabetes?"
   ]
  },
  {
   "cell_type": "markdown",
   "id": "97117c49",
   "metadata": {},
   "source": [
    "* #### For hipertension:"
   ]
  },
  {
   "cell_type": "code",
   "execution_count": 27,
   "id": "2a3b7576",
   "metadata": {},
   "outputs": [
    {
     "data": {
      "text/plain": [
       "alcoholism  hipertension\n",
       "0           0               86693\n",
       "            1               20474\n",
       "1           0                2033\n",
       "            1                1327\n",
       "Name: age, dtype: int64"
      ]
     },
     "execution_count": 27,
     "metadata": {},
     "output_type": "execute_result"
    }
   ],
   "source": [
    "df.groupby(['alcoholism', 'hipertension']).count()['age']"
   ]
  },
  {
   "cell_type": "code",
   "execution_count": 28,
   "id": "aa77e8bc",
   "metadata": {},
   "outputs": [
    {
     "data": {
      "image/png": "[encoded data removed]",
      "text/plain": [
       "<Figure size 432x288 with 1 Axes>"
      ]
     },
     "metadata": {
      "needs_background": "light"
     },
     "output_type": "display_data"
    }
   ],
   "source": [
    "df.groupby(['alcoholism', 'hipertension']).count()['age'].plot(kind='bar', rot=0)\n",
    "\n",
    "plt.title('Relation between alcoholism and hipertension')\n",
    "plt.xlabel('Alcoholism / Hipertension')\n",
    "plt.ylabel('Number of people');"
   ]
  },
  {
   "cell_type": "markdown",
   "id": "f1497dca",
   "metadata": {},
   "source": [
    "* #### For diabetes:"
   ]
  },
  {
   "cell_type": "code",
   "execution_count": 29,
   "id": "96c92c5e",
   "metadata": {},
   "outputs": [
    {
     "data": {
      "text/plain": [
       "alcoholism  diabetes\n",
       "0           0           99556\n",
       "            1            7611\n",
       "1           0            3028\n",
       "            1             332\n",
       "Name: age, dtype: int64"
      ]
     },
     "execution_count": 29,
     "metadata": {},
     "output_type": "execute_result"
    }
   ],
   "source": [
    "df.groupby(['alcoholism', 'diabetes']).count()['age']"
   ]
  },
  {
   "cell_type": "code",
   "execution_count": 30,
   "id": "33a591c2",
   "metadata": {},
   "outputs": [
    {
     "data": {
      "image/png": "[encoded data removed]",
      "text/plain": [
       "<Figure size 432x288 with 1 Axes>"
      ]
     },
     "metadata": {
      "needs_background": "light"
     },
     "output_type": "display_data"
    }
   ],
   "source": [
    "df.groupby(['alcoholism', 'diabetes']).count()['age'].plot(kind='bar', rot=0)\n",
    "\n",
    "plt.title('Relation between alcoholism and diabetes')\n",
    "plt.xlabel('Alcoholism / Diabetes')\n",
    "plt.ylabel('Number of people');"
   ]
  },
  {
   "cell_type": "markdown",
   "id": "c28041ab",
   "metadata": {},
   "source": [
    "Observing the 2 plots, we can infer that hipertension is slightly more related to alcoholism than diabetes."
   ]
  },
  {
   "cell_type": "markdown",
   "id": "a6e4741a",
   "metadata": {},
   "source": [
    "### Are people with scholarship more tendent to have hipertension,\tdiabetes and alcoholism ?"
   ]
  },
  {
   "cell_type": "markdown",
   "id": "a079ec50",
   "metadata": {},
   "source": [
    "* #### For hipertension:"
   ]
  },
  {
   "cell_type": "code",
   "execution_count": 31,
   "id": "4911c5c4",
   "metadata": {},
   "outputs": [
    {
     "data": {
      "text/plain": [
       "scholarship  hipertension\n",
       "0            0               79749\n",
       "             1               19917\n",
       "1            0                8977\n",
       "             1                1884\n",
       "Name: age, dtype: int64"
      ]
     },
     "execution_count": 31,
     "metadata": {},
     "output_type": "execute_result"
    }
   ],
   "source": [
    "df.groupby(['scholarship', 'hipertension']).count()['age']"
   ]
  },
  {
   "cell_type": "code",
   "execution_count": 32,
   "id": "b1b629ab",
   "metadata": {},
   "outputs": [
    {
     "data": {
      "image/png": "[encoded data removed]",
      "text/plain": [
       "<Figure size 432x288 with 1 Axes>"
      ]
     },
     "metadata": {
      "needs_background": "light"
     },
     "output_type": "display_data"
    }
   ],
   "source": [
    "df.groupby(['scholarship', 'hipertension']).count()['age'].plot(kind='bar', rot=0)\n",
    "\n",
    "plt.title('Relation between scholarship and hipertension')\n",
    "plt.xlabel('Scholarship / Hipertension')\n",
    "plt.ylabel('Number of people');"
   ]
  },
  {
   "cell_type": "markdown",
   "id": "af0612f2",
   "metadata": {},
   "source": [
    "* #### For diabetes:"
   ]
  },
  {
   "cell_type": "code",
   "execution_count": 33,
   "id": "a7fd9166",
   "metadata": {},
   "outputs": [
    {
     "data": {
      "text/plain": [
       "scholarship  diabetes\n",
       "0            0           92292\n",
       "             1            7374\n",
       "1            0           10292\n",
       "             1             569\n",
       "Name: age, dtype: int64"
      ]
     },
     "execution_count": 33,
     "metadata": {},
     "output_type": "execute_result"
    }
   ],
   "source": [
    "df.groupby(['scholarship', 'diabetes']).count()['age']"
   ]
  },
  {
   "cell_type": "code",
   "execution_count": 34,
   "id": "de32a9f3",
   "metadata": {},
   "outputs": [
    {
     "data": {
      "image/png": "[encoded data removed]",
      "text/plain": [
       "<Figure size 432x288 with 1 Axes>"
      ]
     },
     "metadata": {
      "needs_background": "light"
     },
     "output_type": "display_data"
    }
   ],
   "source": [
    "df.groupby(['scholarship', 'diabetes']).count()['age'].plot(kind='bar', rot=0)\n",
    "\n",
    "plt.title('Relation between scholarship and diabetes')\n",
    "plt.xlabel('Scholarship / Diabetes')\n",
    "plt.ylabel('Number of people');"
   ]
  },
  {
   "cell_type": "markdown",
   "id": "5f7feb68",
   "metadata": {},
   "source": [
    "* #### For alcoholism:"
   ]
  },
  {
   "cell_type": "code",
   "execution_count": 35,
   "id": "6b7d1a2d",
   "metadata": {},
   "outputs": [
    {
     "data": {
      "text/plain": [
       "scholarship  alcoholism\n",
       "0            0             96834\n",
       "             1              2832\n",
       "1            0             10333\n",
       "             1               528\n",
       "Name: age, dtype: int64"
      ]
     },
     "execution_count": 35,
     "metadata": {},
     "output_type": "execute_result"
    }
   ],
   "source": [
    "df.groupby(['scholarship', 'alcoholism']).count()['age']"
   ]
  },
  {
   "cell_type": "code",
   "execution_count": 36,
   "id": "f370fe6b",
   "metadata": {},
   "outputs": [
    {
     "data": {
      "image/png": "[encoded data removed]",
      "text/plain": [
       "<Figure size 432x288 with 1 Axes>"
      ]
     },
     "metadata": {
      "needs_background": "light"
     },
     "output_type": "display_data"
    }
   ],
   "source": [
    "df.groupby(['scholarship', 'alcoholism']).count()['age'].plot(kind='bar', rot=0)\n",
    "\n",
    "plt.title('Relation between scholarship and alcoholism')\n",
    "plt.xlabel('Scholarship / Alcoholism')\n",
    "plt.ylabel('Number of people');"
   ]
  },
  {
   "cell_type": "markdown",
   "id": "9e356de6",
   "metadata": {},
   "source": [
    "With the 3 plots above, they are no clue to us, that shows scholarship influences eighter on hipertension, diabetes or alcoholism."
   ]
  },
  {
   "cell_type": "markdown",
   "id": "706391ad",
   "metadata": {},
   "source": [
    "<a id='conclusions'></a>\n",
    "## Conclusions"
   ]
  },
  {
   "cell_type": "markdown",
   "id": "2a4fd6d3",
   "metadata": {},
   "source": [
    "### What features that are related to a no-show appointment: neighbourhood, gender, age, SMS received or difference in days?\n",
    "\n",
    "* The two features that look more related to the no-show are neighbourhood location and if the person received an SMS; \n",
    "* Overall, age and gender don't look very decisive if a person will no-show or not;\n",
    "* The difference in days between the appointment and the scheduled day is also related. The closer the appointment and the schedule, higher the chances are of the patient showing up."
   ]
  },
  {
   "cell_type": "markdown",
   "id": "1655bca5",
   "metadata": {},
   "source": [
    "### Is there any relation between the age and the difference in days?\n",
    "\n",
    "* There doesn't seem to be a relation between these two features."
   ]
  },
  {
   "cell_type": "markdown",
   "id": "d3271903",
   "metadata": {},
   "source": [
    "### What disease is more connected with alcoholism: hipertension or diabetes?\n",
    "\n",
    "* Hipertension is the disease that looks more connected with alcoholism."
   ]
  },
  {
   "cell_type": "markdown",
   "id": "c7471b29",
   "metadata": {},
   "source": [
    "### Are people with scholarship more tendent to have hipertension,\tdiabetes and alcoholism ?"
   ]
  },
  {
   "cell_type": "markdown",
   "id": "09aeb6da",
   "metadata": {},
   "source": [
    "* Any relation was clear enough to state any tendency."
   ]
  },
  {
   "cell_type": "markdown",
   "id": "ca8d1674",
   "metadata": {},
   "source": [
    "#### Final considerations"
   ]
  },
  {
   "cell_type": "markdown",
   "id": "7f8356f6",
   "metadata": {},
   "source": [
    "To end this project, it was very interesting to work with this dataset. It was very easy to handle, as it didn't have any missing value nor duplicated value, so the data wrangling step was just about letting the data in a more viewable way, to better understand it.\n",
    "For the limitations, the only one I found was when plotting the number of shows and no-shows for each neighbourhood. As the total amount of neighbourhoods were 80, plotting would have 160 bars, which would pollute the plot. So the solution I found was plotting for the first 15 neighbourhoods, and as it was enough to see the relation between the variables, I think it was enough to achieve the conclusion.\n",
    "Furthermore, I didn't have any trouble working with the data, and the code ran as intended."
   ]
  }
 ],
 "metadata": {
  "kernelspec": {
   "display_name": "Python 3 (ipykernel)",
   "language": "python",
   "name": "python3"
  },
  "language_info": {
   "codemirror_mode": {
    "name": "ipython",
    "version": 3
   },
   "file_extension": ".py",
   "mimetype": "text/x-python",
   "name": "python",
   "nbconvert_exporter": "python",
   "pygments_lexer": "ipython3",
   "version": "3.9.12"
  }
 },
 "nbformat": 4,
 "nbformat_minor": 5
}
